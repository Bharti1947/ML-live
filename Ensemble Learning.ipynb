{
 "cells": [
  {
   "cell_type": "markdown",
   "id": "dea4bb5b-ce2a-4704-a325-d5fe45e26c25",
   "metadata": {},
   "source": [
    "##### 1.Can we use Bagging for regression problems?"
   ]
  },
  {
   "cell_type": "code",
   "execution_count": null,
   "id": "f35cf2ec-3fc0-4d87-bd8e-8dcefba81101",
   "metadata": {},
   "outputs": [],
   "source": [
    "#Ans -Yes, Bagging can be used for regression problems, commonly with models like Decision Trees.\n",
    "#e.g. Bagging Regressor in scikit-learn. "
   ]
  },
  {
   "cell_type": "markdown",
   "id": "ccd279c7-19e8-4cb6-893d-0d704bbd2c27",
   "metadata": {},
   "source": [
    "##### 2. What is the difference b/w multiple model training and single model training?"
   ]
  },
  {
   "cell_type": "code",
   "execution_count": null,
   "id": "4bd5f587-3ad2-471b-ab0d-92e02baf31aa",
   "metadata": {},
   "outputs": [],
   "source": [
    "#Ans -    Single Model Training: Trains one model on the dataset.\n",
    "#Multiple Model Training: Trains multiple models (e.g., ensemble methods) to improve accuracy and robustness. "
   ]
  },
  {
   "cell_type": "markdown",
   "id": "71b02f4c-b99c-44d5-bf72-dcc191863efc",
   "metadata": {},
   "source": [
    "##### 3. Explain the concept of feature randomness in Random Forest."
   ]
  },
  {
   "cell_type": "code",
   "execution_count": null,
   "id": "226d0834-3c7b-4101-bd06-dc0a6c33d773",
   "metadata": {},
   "outputs": [],
   "source": [
    "#Ans - Feature randomness in Random Forest means that each tree in the forest selects a random subset of features at each split, rather than considering all features.\n",
    "#This helps in reducing overfitting and making the model more robust."
   ]
  },
  {
   "cell_type": "markdown",
   "id": "8555b42d-d357-491c-80f6-8b4ff012c869",
   "metadata": {},
   "source": [
    "##### 4. What is OOB(out-of-Bag) Score?"
   ]
  },
  {
   "cell_type": "code",
   "execution_count": null,
   "id": "a7d76331-be2e-4491-8238-1d37d1403720",
   "metadata": {},
   "outputs": [],
   "source": [
    "#Ans -OOB (Out-of-Bag) Score is the accuracy of a Random Forest model measured using data not included in the bootstrap sample for training each tree.\n",
    "#It acts as a built-in validation metric."
   ]
  },
  {
   "cell_type": "markdown",
   "id": "bcf1ad5d-3497-453e-8a95-11e4bf863744",
   "metadata": {},
   "source": [
    "##### 5.How can you measure the importance of features in a Random Forest model?"
   ]
  },
  {
   "cell_type": "code",
   "execution_count": null,
   "id": "1c63f3f1-e952-4a7c-b29f-85307d1558bc",
   "metadata": {},
   "outputs": [],
   "source": [
    "#Ans -Feature importance in Random Forest can be measured using:\n",
    "#Gini Importance (Mean Decrease in Impurity) – Measures how much each feature reduces impurity in splits.\n",
    "#Permutation Importance – Measures the drop in model performance when a feature’s values are randomly shuffled. "
   ]
  },
  {
   "cell_type": "markdown",
   "id": "0e3280bf-e34c-473f-8527-eb5f99339af3",
   "metadata": {},
   "source": [
    "##### 6.Explain the working principle of a Bagging Classifier."
   ]
  },
  {
   "cell_type": "code",
   "execution_count": null,
   "id": "55f80eee-5424-46b2-b555-d57077a97b94",
   "metadata": {},
   "outputs": [],
   "source": [
    "#Ans -A Bagging Classifier works by training multiple models (usually the same type) on different random subsets of the data (with replacement). \n",
    "#The final prediction is made by averaging (for regression) or majority voting (for classification) from all models.\n",
    "#This reduces variance and improves accuracy. "
   ]
  },
  {
   "cell_type": "markdown",
   "id": "ac6ad24d-fcfb-45a2-96df-1bff424cf9c4",
   "metadata": {},
   "source": [
    "##### 7. How do you evaluate a Bagging Classifier's performance?"
   ]
  },
  {
   "cell_type": "code",
   "execution_count": null,
   "id": "36b52713-cd66-417d-9fcf-d16372117d13",
   "metadata": {},
   "outputs": [],
   "source": [
    "# Ans- We can evaluate a Bagging Classifier's performance using:\n",
    "#Accuracy Score – Measures overall correctness.\n",
    "#Confusion Matrix – Analyzes true/false positives and negatives.\n",
    "#Precision, Recall, F1-Score – Evaluates class-wise performance.\n",
    "#ROC-AUC Score – Measures classification quality for imbalanced data.\n",
    "#Cross-Validation – Tests model stability on different data splits."
   ]
  },
  {
   "cell_type": "markdown",
   "id": "39cf2b86-03f4-461e-a5a9-6655bb47a1d0",
   "metadata": {},
   "source": [
    "##### 8. How does a Bagging Regressor work?"
   ]
  },
  {
   "cell_type": "code",
   "execution_count": null,
   "id": "03f76f81-7b2d-4a49-a522-32b28f23e603",
   "metadata": {},
   "outputs": [],
   "source": [
    "#Ans -A Bagging Regressor trains multiple regression models on different random subsets of the data (with replacement). \n",
    "#The final prediction is made by averaging the outputs of all models, reducing variance and improving stability."
   ]
  },
  {
   "cell_type": "markdown",
   "id": "35ed8bf4-5d97-42e0-9251-42bd934ecf74",
   "metadata": {},
   "source": [
    "##### 9. What is the main advantage of ensemble techniques?"
   ]
  },
  {
   "cell_type": "code",
   "execution_count": null,
   "id": "6e4bbda7-ae36-40e3-8096-03bc8a305618",
   "metadata": {},
   "outputs": [],
   "source": [
    "#Ans - The main advantage of ensemble techniques is :-\n",
    "#They combine multiple models to improve accuracy, reduce variance, and enhance robustness compared to individual models."
   ]
  },
  {
   "cell_type": "markdown",
   "id": "beb7e8f1-8e5d-46b9-acb8-736637f39952",
   "metadata": {},
   "source": [
    "##### 10.What is the main challenge of ensemble methods?"
   ]
  },
  {
   "cell_type": "code",
   "execution_count": null,
   "id": "7b5dddd4-e80d-4c38-a152-3bafe1b7f9d4",
   "metadata": {},
   "outputs": [],
   "source": [
    "#Ans - The main challenge of ensemble methods is increased computational cost and complexity, \n",
    "#as they require training multiple models and managing their combination effectively."
   ]
  },
  {
   "cell_type": "markdown",
   "id": "8fc122c9-c959-4a5d-80ab-f7de258503ec",
   "metadata": {},
   "source": [
    "##### 11. Explain the key idea behind ensemble techniques."
   ]
  },
  {
   "cell_type": "code",
   "execution_count": null,
   "id": "91e2c477-dbdb-41e4-bc11-76c62cefbd9e",
   "metadata": {},
   "outputs": [],
   "source": [
    "#Ans -The key idea behind ensemble techniques is to combine multiple models to improve overall performance. \n",
    "#By aggregating predictions, they reduce errors, increase accuracy, and enhance model stability compared to a single model. "
   ]
  },
  {
   "cell_type": "markdown",
   "id": "4d7689cd-5ccc-4168-9f7c-877b523d2d4a",
   "metadata": {},
   "source": [
    "##### 12. What is a Random Forest Classifier?"
   ]
  },
  {
   "cell_type": "code",
   "execution_count": null,
   "id": "36795f27-a192-420f-8c37-b480ceb17bd4",
   "metadata": {},
   "outputs": [],
   "source": [
    "#Ans -A Random Forest Classifier is an ensemble learning method.\n",
    "#It builds multiple decision trees on random subsets of data.\n",
    "#Combines predictions using majority voting for classification "
   ]
  },
  {
   "cell_type": "markdown",
   "id": "828aacee-4846-464b-9b7b-783a9f7fa0cf",
   "metadata": {},
   "source": [
    "##### 13.What are the main types of ensemble techniques?"
   ]
  },
  {
   "cell_type": "code",
   "execution_count": null,
   "id": "169b10d0-dfec-4633-aeb0-f65fa618d6f1",
   "metadata": {},
   "outputs": [],
   "source": [
    "#Ans - The main types of ensemble techniques are:\n",
    "#Bagging – Trains multiple models on random subsets and averages predictions (e.g., Random Forest).\n",
    "#Boosting – Sequentially improves weak models by focusing on misclassified data (e.g., AdaBoost).\n",
    "#Stacking – Combines multiple model predictions using a meta-model.\n",
    "#Voting – Uses majority voting (classification) or averaging (regression) for final prediction."
   ]
  },
  {
   "cell_type": "markdown",
   "id": "a06d9292-61bc-45d6-83c1-f7729942021e",
   "metadata": {},
   "source": [
    "##### 14.What is ensemble learning in machine learning?"
   ]
  },
  {
   "cell_type": "code",
   "execution_count": null,
   "id": "87c7c694-c0c5-483d-8ad3-41b93b5107da",
   "metadata": {},
   "outputs": [],
   "source": [
    "#Ans - Ensemble learning combines multiple models to improve performance.\n",
    "#It helps reduce variance, bias, and overfitting.\n",
    "#Improves accuracy and robustness compared to a single model."
   ]
  },
  {
   "cell_type": "markdown",
   "id": "c65bc40d-99da-4fbd-952d-68ffc6cd8544",
   "metadata": {},
   "source": [
    "##### 15.When should we avoid using ensemble methods?"
   ]
  },
  {
   "cell_type": "code",
   "execution_count": null,
   "id": "a703c341-47e5-4cc3-8941-cb4a30ca5a06",
   "metadata": {},
   "outputs": [],
   "source": [
    "#Ans - Ensemble methods should be avoided when:\n",
    "#The dataset is small, as a single model may perform well.\n",
    "#Computational resources are limited, since ensembles require more processing power.\n",
    "#Interpretability is important, as ensembles are harder to explain."
   ]
  },
  {
   "cell_type": "markdown",
   "id": "e9215a88-e575-41a9-949f-28584fc822a2",
   "metadata": {},
   "source": [
    "##### 16.How does Bagging help in reducing overfitting?"
   ]
  },
  {
   "cell_type": "code",
   "execution_count": null,
   "id": "9b33d8f3-9e91-494d-92b8-86f05500d686",
   "metadata": {},
   "outputs": [],
   "source": [
    "#Ans -Bagging reduces overfitting by:\n",
    "#Training multiple models on different random subsets of data.\n",
    "#Averaging predictions (for regression) or using majority voting (for classification), which smooths out errors.\n",
    "#Reducing model variance, making predictions more stable "
   ]
  },
  {
   "cell_type": "markdown",
   "id": "254cdf48-4385-494f-a705-87498e63b9f3",
   "metadata": {},
   "source": [
    "##### 17.Why is Random Forest bettern than a Single Decision Tree?"
   ]
  },
  {
   "cell_type": "code",
   "execution_count": null,
   "id": "980742c9-89e3-412f-bac6-b370246a1c78",
   "metadata": {},
   "outputs": [],
   "source": [
    "#Ans -Random Forest is better than a single Decision Tree because:\n",
    "#Reduces Overfitting – Combines multiple trees, making it more generalizable.\n",
    "#Improves Accuracy – Aggregates predictions, reducing errors.\n",
    "#Handles Missing Data – Can work with incomplete datasets. "
   ]
  },
  {
   "cell_type": "markdown",
   "id": "84860b60-9a1f-497d-b3de-5e36a71b1385",
   "metadata": {},
   "source": [
    "##### 18.What is the role of bootstrap sampling in Bagging?"
   ]
  },
  {
   "cell_type": "code",
   "execution_count": null,
   "id": "a4449ae7-d342-4be1-9099-3c86366e0bbb",
   "metadata": {},
   "outputs": [],
   "source": [
    "#Ans - The role of bootstrap sampling in Bagging is to:\n",
    "#Create random subsets of the original data by sampling with replacement.\n",
    "#Ensure diversity among models by training each on different data samples.\n",
    "#Reduce overfitting by averaging multiple models’ predictions."
   ]
  },
  {
   "cell_type": "markdown",
   "id": "054fa415-0d55-4d6d-9864-053bc9280933",
   "metadata": {},
   "source": [
    "##### 19. What are the some real-world applications of ensemble techniques?"
   ]
  },
  {
   "cell_type": "code",
   "execution_count": null,
   "id": "46f72e3f-0fda-49e6-8076-c77f50d07e4b",
   "metadata": {},
   "outputs": [],
   "source": [
    "#Ans -Some real-world applications of ensemble techniques include:\n",
    "#Fraud Detection – Identifies fraudulent transactions in banking.\n",
    "#Medical Diagnosis – Improves disease prediction and classification.\n",
    "#Stock Market Prediction – Enhances financial forecasting models. "
   ]
  },
  {
   "cell_type": "markdown",
   "id": "06929db3-3911-4862-a8ca-41933ed23365",
   "metadata": {},
   "source": [
    "##### 20. what is the difference between Bagging and Boosting?"
   ]
  },
  {
   "cell_type": "code",
   "execution_count": null,
   "id": "df7cdd18-daf2-4090-9004-017197af9eae",
   "metadata": {},
   "outputs": [],
   "source": [
    "#Ans - Bagging trains models independently to reduce variance (e.g., Random Forest).\n",
    "#Boosting trains models sequentially to reduce bias (e.g., AdaBoost, XGBoost).\n",
    "#Bagging uses parallel training, while Boosting uses sequential training.\n",
    "#Bagging combines models using averaging or voting.\n",
    "#Boosting gives higher weight to misclassified data for better learning. "
   ]
  },
  {
   "cell_type": "markdown",
   "id": "3e643064-5376-4dca-8809-bf86455e752c",
   "metadata": {},
   "source": [
    "## practical"
   ]
  },
  {
   "cell_type": "code",
   "execution_count": 1,
   "id": "4607966a-4594-4a7b-bd0f-d8de5ea1397c",
   "metadata": {},
   "outputs": [],
   "source": [
    "import numpy as np\n",
    "import pandas as pd\n",
    "import matplotlib.pyplot as plt\n",
    "import seaborn as sns\n",
    "\n",
    "import warnings\n",
    "warnings.filterwarnings('ignore')"
   ]
  },
  {
   "cell_type": "code",
   "execution_count": 25,
   "id": "28888228-e7c6-4a16-894c-339b76a02d8f",
   "metadata": {},
   "outputs": [],
   "source": [
    "from sklearn.datasets import make_classification\n",
    "from sklearn.model_selection import train_test_split\n",
    "from sklearn.metrics import accuracy_score\n",
    "from sklearn.metrics import mean_squared_error"
   ]
  },
  {
   "cell_type": "markdown",
   "id": "2654b894-a589-456b-9410-3245b8472487",
   "metadata": {},
   "source": [
    "##### 21.Train a Bagging Classifier using Decision Trees on a sample dataset and Print model accuracy."
   ]
  },
  {
   "cell_type": "code",
   "execution_count": 27,
   "id": "6e767fb5-86cf-436b-8cef-16f2bf3911d0",
   "metadata": {},
   "outputs": [
    {
     "name": "stdout",
     "output_type": "stream",
     "text": [
      "Accuracy: 0.875\n"
     ]
    }
   ],
   "source": [
    "from sklearn.ensemble import BaggingClassifier\n",
    "from sklearn.tree import DecisionTreeClassifier\n",
    "\n",
    "# Create sample dataset\n",
    "X, y = make_classification(n_samples=1000, n_features=5, random_state=42)\n",
    "\n",
    "# Split data\n",
    "X_train, X_test, y_train, y_test = train_test_split(X, y, test_size=0.2, random_state=42)\n",
    "\n",
    "# Train Bagging Classifier\n",
    "model = BaggingClassifier(estimator=DecisionTreeClassifier(), n_estimators=10, random_state=42)\n",
    "model.fit(X_train, y_train)\n",
    "\n",
    "# Predict and print accuracy\n",
    "y_pred = model.predict(X_test)\n",
    "print(\"Accuracy:\", accuracy_score(y_test, y_pred))\n"
   ]
  },
  {
   "cell_type": "markdown",
   "id": "cf7ce6f8-4292-45a7-b79d-71b07ceea0f7",
   "metadata": {},
   "source": [
    "##### 22.Train a Bagging Regressor using Decision Trees and evaluate using Mean Squared Error(MSE)."
   ]
  },
  {
   "cell_type": "code",
   "execution_count": 29,
   "id": "2ed9d9dc-0b9e-4c54-a59c-8756a373d44e",
   "metadata": {},
   "outputs": [
    {
     "name": "stdout",
     "output_type": "stream",
     "text": [
      "Mean Squared Error (MSE): 429.81140885042754\n"
     ]
    }
   ],
   "source": [
    "from sklearn.ensemble import BaggingRegressor\n",
    "from sklearn.tree import DecisionTreeRegressor\n",
    "from sklearn.datasets import make_regression\n",
    "# Create sample dataset\n",
    "X, y = make_regression(n_samples=1000, n_features=5, random_state=42)\n",
    "\n",
    "# Split data\n",
    "X_train, X_test, y_train, y_test = train_test_split(X, y, test_size=0.2, random_state=42)\n",
    "\n",
    "# Train Bagging Regressor\n",
    "model = BaggingRegressor(estimator=DecisionTreeRegressor(), n_estimators=10, random_state=42)\n",
    "model.fit(X_train, y_train)\n",
    "\n",
    "# Predict and evaluate using MSE\n",
    "y_pred = model.predict(X_test)\n",
    "print(\"Mean Squared Error (MSE):\", mean_squared_error(y_test, y_pred))\n"
   ]
  },
  {
   "cell_type": "markdown",
   "id": "7170466a-6ab9-4497-9c41-0d4e7665af1a",
   "metadata": {},
   "source": [
    "##### 23.Train a Random Forest Classifier on the Breast Cancer dataset and Print importance scores."
   ]
  },
  {
   "cell_type": "code",
   "execution_count": 19,
   "id": "33b16ae4-d714-4faf-b3d8-e9ae191e05a3",
   "metadata": {},
   "outputs": [
    {
     "name": "stdout",
     "output_type": "stream",
     "text": [
      "worst concave points       0.162381\n",
      "worst perimeter            0.125161\n",
      "worst radius               0.099323\n",
      "mean perimeter             0.093043\n",
      "worst concavity            0.078470\n",
      "mean radius                0.069829\n",
      "mean concavity             0.068267\n",
      "mean concave points        0.063024\n",
      "area error                 0.061231\n",
      "worst compactness          0.038555\n",
      "worst texture              0.022781\n",
      "worst area                 0.022102\n",
      "mean texture               0.019670\n",
      "mean area                  0.012190\n",
      "mean smoothness            0.010596\n",
      "worst symmetry             0.008409\n",
      "worst smoothness           0.006101\n",
      "mean symmetry              0.004658\n",
      "texture error              0.004624\n",
      "worst fractal dimension    0.004595\n",
      "mean fractal dimension     0.004367\n",
      "concavity error            0.003355\n",
      "radius error               0.003323\n",
      "concave points error       0.003097\n",
      "fractal dimension error    0.002280\n",
      "perimeter error            0.002220\n",
      "symmetry error             0.002184\n",
      "smoothness error           0.001763\n",
      "compactness error          0.001695\n",
      "mean compactness           0.000707\n",
      "dtype: float64\n"
     ]
    }
   ],
   "source": [
    "from sklearn.ensemble import RandomForestClassifier\n",
    "from sklearn.datasets import load_breast_cancer\n",
    "# Load dataset\n",
    "data = load_breast_cancer()\n",
    "X, y = data.data, data.target\n",
    "\n",
    "# Train Random Forest Classifier\n",
    "model = RandomForestClassifier(n_estimators=10, random_state=42)\n",
    "model.fit(X, y)\n",
    "\n",
    "# Print feature importance\n",
    "importance = pd.Series(model.feature_importances_, index=data.feature_names)\n",
    "print(importance.sort_values(ascending=False))\n"
   ]
  },
  {
   "cell_type": "markdown",
   "id": "c4eb1d3b-b31c-485b-a9eb-ecbfc45ab41f",
   "metadata": {},
   "source": [
    "##### 24.Train a Random Forest Regressor and compare its performance with a single Decision Tree."
   ]
  },
  {
   "cell_type": "code",
   "execution_count": 31,
   "id": "998a974c-f749-4365-a55b-ad92141966c4",
   "metadata": {},
   "outputs": [
    {
     "name": "stdout",
     "output_type": "stream",
     "text": [
      "Random Forest MSE: 1773.2175689143996\n",
      "Decision Tree MSE: 3153.0882008564386\n"
     ]
    }
   ],
   "source": [
    "from sklearn.ensemble import RandomForestRegressor\n",
    "from sklearn.tree import DecisionTreeRegressor\n",
    "from sklearn.datasets import make_regression\n",
    "\n",
    "\n",
    "# Create dataset\n",
    "X, y = make_regression(n_samples=500, n_features=5, random_state=42)\n",
    "\n",
    "# Split data\n",
    "X_train, X_test, y_train, y_test = train_test_split(X, y, test_size=0.2, random_state=42)\n",
    "\n",
    "# Train models\n",
    "rf = RandomForestRegressor(n_estimators=10, random_state=42)\n",
    "dt = DecisionTreeRegressor(random_state=42)\n",
    "\n",
    "rf.fit(X_train, y_train)\n",
    "dt.fit(X_train, y_train)\n",
    "\n",
    "# Predict and compare performance\n",
    "rf_pred = rf.predict(X_test)\n",
    "dt_pred = dt.predict(X_test)\n",
    "\n",
    "print(\"Random Forest MSE:\", mean_squared_error(y_test, rf_pred))\n",
    "print(\"Decision Tree MSE:\", mean_squared_error(y_test, dt_pred))\n"
   ]
  },
  {
   "cell_type": "markdown",
   "id": "524827d6-3398-4e01-8848-e55fa817cff8",
   "metadata": {},
   "source": [
    "##### 25.Compute the Out - of - Bag(OOB) Score for a Random Forest Classifier."
   ]
  },
  {
   "cell_type": "code",
   "execution_count": 33,
   "id": "386f2f86-fb51-43cb-8cec-70e1237e02c6",
   "metadata": {},
   "outputs": [
    {
     "name": "stdout",
     "output_type": "stream",
     "text": [
      "OOB Score: 0.932\n"
     ]
    }
   ],
   "source": [
    "from sklearn.ensemble import RandomForestClassifier\n",
    "\n",
    "# Create dataset\n",
    "X, y = make_classification(n_samples=500, n_features=5, random_state=42)\n",
    "\n",
    "# Train Random Forest with OOB score\n",
    "model = RandomForestClassifier(n_estimators=10, oob_score=True, random_state=42)\n",
    "model.fit(X, y)\n",
    "\n",
    "# Print OOB score\n",
    "print(\"OOB Score:\", model.oob_score_)\n"
   ]
  },
  {
   "cell_type": "markdown",
   "id": "44e60caa-571a-4ce2-8631-81c05bd6b1f0",
   "metadata": {},
   "source": [
    "##### 26.Train a Bagging Classifier using SVM as a base estimatore and print accuracy."
   ]
  },
  {
   "cell_type": "code",
   "execution_count": 37,
   "id": "f0f153a9-a42c-4940-8384-09a20b71353d",
   "metadata": {},
   "outputs": [
    {
     "name": "stdout",
     "output_type": "stream",
     "text": [
      "Accuracy: 0.93\n"
     ]
    }
   ],
   "source": [
    "from sklearn.ensemble import BaggingClassifier\n",
    "from sklearn.svm import SVC\n",
    "\n",
    "# Create dataset\n",
    "X, y = make_classification(n_samples=500, n_features=5, random_state=42)\n",
    "\n",
    "# Split data\n",
    "X_train, X_test, y_train, y_test = train_test_split(X, y, test_size=0.2, random_state=42)\n",
    "\n",
    "# Train Bagging Classifier with SVM\n",
    "model = BaggingClassifier(estimator=SVC(), n_estimators=10, random_state=42)\n",
    "model.fit(X_train, y_train)\n",
    "\n",
    "# Predict and print accuracy\n",
    "y_pred = model.predict(X_test)\n",
    "print(\"Accuracy:\", accuracy_score(y_test, y_pred))\n"
   ]
  },
  {
   "cell_type": "markdown",
   "id": "0bdb8e94-90a0-4ca4-b5b0-69b1a7afa545",
   "metadata": {},
   "source": [
    "##### 27.Train a Random Forest Classifier with different numbers of trees and compare accuracy."
   ]
  },
  {
   "cell_type": "code",
   "execution_count": 45,
   "id": "6bc6cf42-11dd-4ce6-bc19-4c588f5a0ea4",
   "metadata": {},
   "outputs": [
    {
     "name": "stdout",
     "output_type": "stream",
     "text": [
      "Trees: 5, Accuracy: 0.95\n",
      "Trees: 10, Accuracy: 0.94\n",
      "Trees: 50, Accuracy: 0.96\n",
      "Trees: 100, Accuracy: 0.96\n"
     ]
    }
   ],
   "source": [
    "from sklearn.ensemble import RandomForestClassifier\n",
    "\n",
    "# Create dataset\n",
    "X, y = make_classification(n_samples=500, n_features=5, random_state=42)\n",
    "\n",
    "# Split data\n",
    "X_train, X_test, y_train, y_test = train_test_split(X, y, test_size=0.2, random_state=42)\n",
    "\n",
    "# Train Random Forest with different tree counts\n",
    "for n_trees in [5, 10, 50, 100]:\n",
    "    model = RandomForestClassifier(n_estimators=n_trees, random_state=42)\n",
    "    model.fit(X_train, y_train)\n",
    "    y_pred = model.predict(X_test)\n",
    "    print(f\"Trees: {n_trees}, Accuracy: {accuracy_score(y_test, y_pred)}\")\n"
   ]
  },
  {
   "cell_type": "markdown",
   "id": "7f493194-952d-4158-a84a-f1ec9433f187",
   "metadata": {},
   "source": [
    "##### 28. Train a Bagging Classifier using Logistic Regression as a base estimator and print AUC Score."
   ]
  },
  {
   "cell_type": "code",
   "execution_count": 53,
   "id": "52697cd3-4431-4261-b950-e572bfc25048",
   "metadata": {},
   "outputs": [
    {
     "name": "stdout",
     "output_type": "stream",
     "text": [
      "AUC Score: 0.9498548693824442\n"
     ]
    }
   ],
   "source": [
    "from sklearn.ensemble import BaggingClassifier\n",
    "from sklearn.linear_model import LogisticRegression\n",
    "\n",
    "\n",
    "# Create dataset\n",
    "X, y = make_classification(n_samples=1000, n_features=5, random_state=42)\n",
    "\n",
    "# Split data\n",
    "X_train, X_test, y_train, y_test = train_test_split(X, y, test_size=0.2, random_state=42)\n",
    "\n",
    "# Train Bagging Classifier with Logistic Regression\n",
    "model = BaggingClassifier(estimator=LogisticRegression(), n_estimators=10, random_state=42)\n",
    "model.fit(X_train, y_train)\n",
    "\n",
    "# Predict and print AUC Score\n",
    "y_pred_prob = model.predict_proba(X_test)[:, 1]  \n",
    "print(\"AUC Score:\", roc_auc_score(y_test, y_pred_prob))\n"
   ]
  },
  {
   "cell_type": "markdown",
   "id": "cd544b81-b100-473b-99a4-288ad7416410",
   "metadata": {},
   "source": [
    "##### 29.Train a Random Forest Regressor and analyze feature importance scores."
   ]
  },
  {
   "cell_type": "code",
   "execution_count": 55,
   "id": "5070a8df-f16d-435f-991f-063c835bf2f3",
   "metadata": {},
   "outputs": [
    {
     "name": "stdout",
     "output_type": "stream",
     "text": [
      "Feature Importance:\n",
      " 3    0.521903\n",
      "0    0.360654\n",
      "2    0.061088\n",
      "4    0.045855\n",
      "1    0.010500\n",
      "dtype: float64\n"
     ]
    }
   ],
   "source": [
    "from sklearn.ensemble import RandomForestRegressor\n",
    "from sklearn.datasets import make_regression\n",
    "\n",
    "\n",
    "# Create dataset\n",
    "X, y = make_regression(n_samples=500, n_features=5, random_state=42)\n",
    "\n",
    "# Train Random Forest Regressor\n",
    "model = RandomForestRegressor(n_estimators=10, random_state=42)\n",
    "model.fit(X, y)\n",
    "\n",
    "# Print feature importance scores\n",
    "importance = pd.Series(model.feature_importances_)\n",
    "print(\"Feature Importance:\\n\", importance.sort_values(ascending=False))\n"
   ]
  },
  {
   "cell_type": "markdown",
   "id": "b7866242-f76e-40d3-a61e-6138c3b8d6ae",
   "metadata": {},
   "source": [
    "##### 30.Train an ensemble model using both Bagging and Random Forest and compare accuracy."
   ]
  },
  {
   "cell_type": "code",
   "execution_count": 59,
   "id": "6052e396-04dd-4fd0-a788-3ec37e07b053",
   "metadata": {},
   "outputs": [
    {
     "name": "stdout",
     "output_type": "stream",
     "text": [
      "Bagging Classifier Accuracy: 0.9071428571428571\n",
      "Random Forest Classifier Accuracy: 0.8785714285714286\n"
     ]
    }
   ],
   "source": [
    "from sklearn.ensemble import BaggingClassifier, RandomForestClassifier\n",
    "from sklearn.tree import DecisionTreeClassifier\n",
    "\n",
    "# Create dataset\n",
    "X, y = make_classification(n_samples=700, n_features=5, random_state=42)\n",
    "\n",
    "# Split data\n",
    "X_train, X_test, y_train, y_test = train_test_split(X, y, test_size=0.2, random_state=42)\n",
    "\n",
    "# Train Bagging Classifier\n",
    "bagging_model = BaggingClassifier(estimator=DecisionTreeClassifier(), n_estimators=10, random_state=42)\n",
    "bagging_model.fit(X_train, y_train)\n",
    "\n",
    "# Train Random Forest Classifier\n",
    "rf_model = RandomForestClassifier(n_estimators=10, random_state=42)\n",
    "rf_model.fit(X_train, y_train)\n",
    "\n",
    "# Predict and compare accuracy\n",
    "bagging_acc = accuracy_score(y_test, bagging_model.predict(X_test))\n",
    "rf_acc = accuracy_score(y_test, rf_model.predict(X_test))\n",
    "\n",
    "print(\"Bagging Classifier Accuracy:\", bagging_acc)\n",
    "print(\"Random Forest Classifier Accuracy:\", rf_acc)\n"
   ]
  },
  {
   "cell_type": "markdown",
   "id": "fde87dc6-04e2-47d4-9032-3ac8cf7bf0d9",
   "metadata": {},
   "source": [
    "##### 31.Train a Random Forest and tune hyperparameters using GridSearchCV."
   ]
  },
  {
   "cell_type": "code",
   "execution_count": 65,
   "id": "862db497-4bb4-464a-b40c-f121e2c6fd6e",
   "metadata": {},
   "outputs": [
    {
     "name": "stdout",
     "output_type": "stream",
     "text": [
      "Best Parameters: {'max_depth': 10, 'n_estimators': 100}\n",
      "Best Accuracy: 0.9516666666666665\n"
     ]
    }
   ],
   "source": [
    "from sklearn.ensemble import RandomForestClassifier\n",
    "from sklearn.model_selection import GridSearchCV\n",
    "\n",
    "# Create dataset\n",
    "X, y = make_classification(n_samples=1500, n_features=5, random_state=42)\n",
    "\n",
    "# Split data\n",
    "X_train, X_test, y_train, y_test = train_test_split(X, y, test_size=0.2, random_state=42)\n",
    "\n",
    "# Define Random Forest model and hyperparameter grid\n",
    "model = RandomForestClassifier(random_state=42)\n",
    "param_grid = {'n_estimators': [10, 50, 100], 'max_depth': [None, 5, 10]}\n",
    "\n",
    "# Grid Search\n",
    "grid_search = GridSearchCV(model, param_grid, cv=5, scoring='accuracy')\n",
    "grid_search.fit(X_train, y_train)\n",
    "\n",
    "# Best parameters and accuracy\n",
    "print(\"Best Parameters:\", grid_search.best_params_)\n",
    "print(\"Best Accuracy:\", grid_search.best_score_)\n"
   ]
  },
  {
   "cell_type": "markdown",
   "id": "ce2a76a0-76e5-4bfe-8657-85dbd9d7b1a6",
   "metadata": {},
   "source": [
    "##### 32.Train a Bagging Regressor with different numbers of base estimators and compare performance."
   ]
  },
  {
   "cell_type": "code",
   "execution_count": 67,
   "id": "33cef138-6152-4c16-ae70-a321ad4151e4",
   "metadata": {},
   "outputs": [
    {
     "name": "stdout",
     "output_type": "stream",
     "text": [
      "Estimators: 5, MSE: 2055.5184997584856\n",
      "Estimators: 10, MSE: 1713.318608798281\n",
      "Estimators: 50, MSE: 1606.9810547544093\n",
      "Estimators: 100, MSE: 1480.8014550556222\n"
     ]
    }
   ],
   "source": [
    "from sklearn.ensemble import BaggingRegressor\n",
    "from sklearn.tree import DecisionTreeRegressor\n",
    "from sklearn.datasets import make_regression\n",
    "\n",
    "# Create dataset\n",
    "X, y = make_regression(n_samples=500, n_features=5, random_state=42)\n",
    "\n",
    "# Split data\n",
    "X_train, X_test, y_train, y_test = train_test_split(X, y, test_size=0.2, random_state=42)\n",
    "\n",
    "# Train Bagging Regressor with different numbers of base estimators\n",
    "for n_estimators in [5, 10, 50, 100]:\n",
    "    model = BaggingRegressor(estimator=DecisionTreeRegressor(), n_estimators=n_estimators, random_state=42)\n",
    "    model.fit(X_train, y_train)\n",
    "    y_pred = model.predict(X_test)\n",
    "    print(f\"Estimators: {n_estimators}, MSE: {mean_squared_error(y_test, y_pred)}\")\n"
   ]
  },
  {
   "cell_type": "markdown",
   "id": "59da5009-f1f7-42e3-9294-11c3f12ecacf",
   "metadata": {},
   "source": [
    "##### 33.Train a Random Forest Classifier and analyze misclassified samples."
   ]
  },
  {
   "cell_type": "code",
   "execution_count": 69,
   "id": "145f57c5-18aa-4692-993c-23d986bfc22f",
   "metadata": {},
   "outputs": [
    {
     "name": "stdout",
     "output_type": "stream",
     "text": [
      "Misclassified samples: [ 2 11 49 72 90 91]\n"
     ]
    }
   ],
   "source": [
    "from sklearn.ensemble import RandomForestClassifier\n",
    "from sklearn.datasets import make_classification\n",
    "\n",
    "# Create dataset\n",
    "X, y = make_classification(n_samples=500, n_features=5, random_state=42)\n",
    "\n",
    "# Split data\n",
    "X_train, X_test, y_train, y_test = train_test_split(X, y, test_size=0.2, random_state=42)\n",
    "\n",
    "# Train Random Forest\n",
    "model = RandomForestClassifier(n_estimators=10, random_state=42)\n",
    "model.fit(X_train, y_train)\n",
    "\n",
    "# Predict and find misclassified samples\n",
    "y_pred = model.predict(X_test)\n",
    "misclassified_indices = np.where(y_pred != y_test)[0]\n",
    "print(\"Misclassified samples:\", misclassified_indices)\n"
   ]
  },
  {
   "cell_type": "markdown",
   "id": "0bad64ab-3c71-4d17-8873-83aaac8f7f56",
   "metadata": {},
   "source": [
    "##### 34. Train a Bagging Classifier and compare its performance with a Single Decision Tree Classifier."
   ]
  },
  {
   "cell_type": "code",
   "execution_count": 75,
   "id": "cdf08056-d87e-4751-b140-0f387f8d2eb7",
   "metadata": {},
   "outputs": [
    {
     "name": "stdout",
     "output_type": "stream",
     "text": [
      "Bagging Classifier Accuracy: 0.895\n",
      "Single Decision Tree Accuracy: 0.8825\n"
     ]
    }
   ],
   "source": [
    "from sklearn.ensemble import BaggingClassifier\n",
    "from sklearn.tree import DecisionTreeClassifier\n",
    "# Create dataset\n",
    "X, y = make_classification(n_samples=2000, n_features=5, random_state=42)\n",
    "\n",
    "# Split data\n",
    "X_train, X_test, y_train, y_test = train_test_split(X, y, test_size=0.2, random_state=42)\n",
    "\n",
    "# Train models\n",
    "bagging_model = BaggingClassifier(estimator=DecisionTreeClassifier(), n_estimators=10, random_state=42)\n",
    "tree_model = DecisionTreeClassifier(random_state=42)\n",
    "\n",
    "bagging_model.fit(X_train, y_train)\n",
    "tree_model.fit(X_train, y_train)\n",
    "\n",
    "# Predict and compare accuracy\n",
    "print(\"Bagging Classifier Accuracy:\", accuracy_score(y_test, bagging_model.predict(X_test)))\n",
    "print(\"Single Decision Tree Accuracy:\", accuracy_score(y_test, tree_model.predict(X_test)))\n"
   ]
  },
  {
   "cell_type": "markdown",
   "id": "1490367b-5505-472c-a0f5-e921211fadd9",
   "metadata": {},
   "source": [
    "##### 35.Train a Random Forest Classifier and visualize the confusion matrix."
   ]
  },
  {
   "cell_type": "code",
   "execution_count": 77,
   "id": "50ab7a43-20f5-48a8-adcd-e6b88aa7f6e7",
   "metadata": {},
   "outputs": [
    {
     "data": {
      "image/png": "[encoded data removed]",
      "text/plain": [
       "<Figure size 640x480 with 2 Axes>"
      ]
     },
     "metadata": {},
     "output_type": "display_data"
    }
   ],
   "source": [
    "from sklearn.ensemble import RandomForestClassifier\n",
    "from sklearn.datasets import make_classification\n",
    "from sklearn.metrics import confusion_matrix\n",
    "\n",
    "# Create dataset\n",
    "X, y = make_classification(n_samples=500, n_features=5, random_state=42)\n",
    "\n",
    "# Split data\n",
    "X_train, X_test, y_train, y_test = train_test_split(X, y, test_size=0.2, random_state=42)\n",
    "\n",
    "# Train Random Forest\n",
    "model = RandomForestClassifier(n_estimators=10, random_state=42)\n",
    "model.fit(X_train, y_train)\n",
    "\n",
    "# Predict and visualize confusion matrix\n",
    "cm = confusion_matrix(y_test, model.predict(X_test))\n",
    "\n",
    "sns.heatmap(cm, annot=True, cmap=\"Blues\", fmt=\"d\")\n",
    "plt.xlabel(\"Predicted\")\n",
    "plt.ylabel(\"Actual\")\n",
    "plt.title(\"Confusion Matrix\")\n",
    "plt.show()\n"
   ]
  },
  {
   "cell_type": "markdown",
   "id": "00aca15d-e335-4eab-b8db-6c4004433891",
   "metadata": {},
   "source": [
    "##### 36.Train a Stacking Classifier using Decision Trees, SVM, and Logistic Regression, and compare accuracy."
   ]
  },
  {
   "cell_type": "code",
   "execution_count": 79,
   "id": "da16bfe2-735d-47bc-a74d-147b55862fd5",
   "metadata": {},
   "outputs": [
    {
     "name": "stdout",
     "output_type": "stream",
     "text": [
      "Stacking Classifier Accuracy: 0.94\n"
     ]
    }
   ],
   "source": [
    "from sklearn.ensemble import StackingClassifier\n",
    "from sklearn.tree import DecisionTreeClassifier\n",
    "from sklearn.svm import SVC\n",
    "from sklearn.linear_model import LogisticRegression\n",
    "\n",
    "# Create dataset\n",
    "X, y = make_classification(n_samples=500, n_features=5, random_state=42)\n",
    "\n",
    "# Split data\n",
    "X_train, X_test, y_train, y_test = train_test_split(X, y, test_size=0.2, random_state=42)\n",
    "\n",
    "# Define base models\n",
    "base_models = [\n",
    "    ('dt', DecisionTreeClassifier()),\n",
    "    ('svm', SVC(probability=True)),\n",
    "    ('lr', LogisticRegression())\n",
    "]\n",
    "\n",
    "# Define stacking classifier\n",
    "stack_model = StackingClassifier(estimators=base_models, final_estimator=LogisticRegression())\n",
    "stack_model.fit(X_train, y_train)\n",
    "\n",
    "# Predict and print accuracy\n",
    "y_pred = stack_model.predict(X_test)\n",
    "print(\"Stacking Classifier Accuracy:\", accuracy_score(y_test, y_pred))\n"
   ]
  },
  {
   "cell_type": "markdown",
   "id": "2017b000-4a92-4ed4-b26e-bed032f84c9b",
   "metadata": {},
   "source": [
    "##### 37.Train a Random Forest Classifier and print the top 5 most important features."
   ]
  },
  {
   "cell_type": "code",
   "execution_count": 81,
   "id": "290f6f43-eae1-42b3-9a0f-c65b6e88f22b",
   "metadata": {},
   "outputs": [
    {
     "name": "stdout",
     "output_type": "stream",
     "text": [
      "Top 5 Most Important Features:\n",
      " 0    0.509162\n",
      "2    0.215633\n",
      "3    0.145819\n",
      "4    0.111307\n",
      "1    0.018079\n",
      "dtype: float64\n"
     ]
    }
   ],
   "source": [
    "from sklearn.ensemble import RandomForestClassifier\n",
    "\n",
    "# Create dataset\n",
    "X, y = make_classification(n_samples=500, n_features=5, random_state=42)\n",
    "\n",
    "# Train Random Forest\n",
    "model = RandomForestClassifier(n_estimators=10, random_state=42)\n",
    "model.fit(X, y)\n",
    "\n",
    "# Print top 5 important features\n",
    "importance = pd.Series(model.feature_importances_).sort_values(ascending=False)\n",
    "print(\"Top 5 Most Important Features:\\n\", importance.head(5))\n"
   ]
  },
  {
   "cell_type": "markdown",
   "id": "cea34e45-1b88-4857-a3d6-8c065d8df689",
   "metadata": {},
   "source": [
    "##### 38.Train a Bagging Classifier and evaluate performance using Precision,Recall and F1-score."
   ]
  },
  {
   "cell_type": "code",
   "execution_count": 91,
   "id": "f74fa433-a01a-4d4e-971e-1f8e267b71a7",
   "metadata": {},
   "outputs": [
    {
     "name": "stdout",
     "output_type": "stream",
     "text": [
      "Precision: 0.92\n",
      "Recall: 0.9787234042553191\n",
      "F1-Score: 0.9484536082474226\n"
     ]
    }
   ],
   "source": [
    "from sklearn.ensemble import BaggingClassifier\n",
    "from sklearn.tree import DecisionTreeClassifier\n",
    "from sklearn.metrics import precision_score, recall_score, f1_score\n",
    "\n",
    "# Create dataset\n",
    "X, y = make_classification(n_samples=500, n_features=5, random_state=42)\n",
    "\n",
    "# Split data\n",
    "X_train, X_test, y_train, y_test = train_test_split(X, y, test_size=0.2, random_state=42)\n",
    "\n",
    "# Train Bagging Classifier\n",
    "model = BaggingClassifier(estimator=DecisionTreeClassifier(), n_estimators=10, random_state=42)\n",
    "model.fit(X_train, y_train)\n",
    "\n",
    "# Predict and evaluate metrics\n",
    "y_pred = model.predict(X_test)\n",
    "print(\"Precision:\", precision_score(y_test, y_pred))\n",
    "print(\"Recall:\", recall_score(y_test, y_pred))\n",
    "print(\"F1-Score:\", f1_score(y_test, y_pred))\n"
   ]
  },
  {
   "cell_type": "markdown",
   "id": "3b0aacd8-6ce8-488c-bae3-3efc893e80b5",
   "metadata": {},
   "source": [
    "##### 39.Train a Random Forest Classifier and analyze the effect of max_depth on accuracy."
   ]
  },
  {
   "cell_type": "code",
   "execution_count": 99,
   "id": "84dcede9-8b5b-42ca-8887-a183bfc6892e",
   "metadata": {},
   "outputs": [
    {
     "name": "stdout",
     "output_type": "stream",
     "text": [
      "Max Depth: None, Accuracy: 0.92\n",
      "Max Depth: 5, Accuracy: 0.915\n",
      "Max Depth: 10, Accuracy: 0.92\n",
      "Max Depth: 20, Accuracy: 0.92\n"
     ]
    }
   ],
   "source": [
    "from sklearn.ensemble import RandomForestClassifier\n",
    "# Create dataset\n",
    "X, y = make_classification(n_samples=1000, n_features=6, random_state=42)\n",
    "\n",
    "# Split data\n",
    "X_train, X_test, y_train, y_test = train_test_split(X, y, test_size=0.2, random_state=42)\n",
    "\n",
    "# Analyze effect of max_depth\n",
    "for depth in [None, 5, 10, 20]:\n",
    "    model = RandomForestClassifier(n_estimators=50, max_depth=depth, random_state=42)\n",
    "    model.fit(X_train, y_train)\n",
    "    y_pred = model.predict(X_test)\n",
    "    print(f\"Max Depth: {depth}, Accuracy: {accuracy_score(y_test, y_pred)}\")\n"
   ]
  },
  {
   "cell_type": "markdown",
   "id": "5ee737b4-1f44-4f6c-a1f3-b8944cbf4fc1",
   "metadata": {},
   "source": [
    "##### 40.Train a Bagging Regressor using different base estimators(DecisionTree and KNeighbors) and compare performance."
   ]
  },
  {
   "cell_type": "code",
   "execution_count": 101,
   "id": "d3a95c3c-225c-49c5-acff-38019831fb77",
   "metadata": {},
   "outputs": [
    {
     "name": "stdout",
     "output_type": "stream",
     "text": [
      "Decision Tree - MSE: 1713.318608798281\n",
      "KNeighbors - MSE: 1648.963589404266\n"
     ]
    }
   ],
   "source": [
    "from sklearn.ensemble import BaggingRegressor\n",
    "from sklearn.tree import DecisionTreeRegressor\n",
    "from sklearn.neighbors import KNeighborsRegressor\n",
    "from sklearn.datasets import make_regression\n",
    "# Create dataset\n",
    "X, y = make_regression(n_samples=500, n_features=5, random_state=42)\n",
    "\n",
    "# Split data\n",
    "X_train, X_test, y_train, y_test = train_test_split(X, y, test_size=0.2, random_state=42)\n",
    "\n",
    "# Train models\n",
    "estimators = {\n",
    "    \"Decision Tree\": DecisionTreeRegressor(),\n",
    "    \"KNeighbors\": KNeighborsRegressor()\n",
    "}\n",
    "\n",
    "for name, estimator in estimators.items():\n",
    "    model = BaggingRegressor(estimator=estimator, n_estimators=10, random_state=42)\n",
    "    model.fit(X_train, y_train)\n",
    "    y_pred = model.predict(X_test)\n",
    "    print(f\"{name} - MSE: {mean_squared_error(y_test, y_pred)}\")\n"
   ]
  },
  {
   "cell_type": "markdown",
   "id": "41898b3d-da56-4990-a45b-f93898356e89",
   "metadata": {},
   "source": [
    "##### 41.Train a Random Forest Classifier and evaluate its performance using ROC-AUC Score."
   ]
  },
  {
   "cell_type": "code",
   "execution_count": 105,
   "id": "4ddc6f60-0905-456e-9252-075ade2de6f4",
   "metadata": {},
   "outputs": [
    {
     "name": "stdout",
     "output_type": "stream",
     "text": [
      "ROC-AUC Score: 0.9791795665634675\n"
     ]
    }
   ],
   "source": [
    "from sklearn.ensemble import RandomForestClassifier\n",
    "from sklearn.metrics import roc_auc_score\n",
    "\n",
    "# Create dataset\n",
    "X, y = make_classification(n_samples=1800, n_features=7, random_state=42)\n",
    "\n",
    "# Split data\n",
    "X_train, X_test, y_train, y_test = train_test_split(X, y, test_size=0.2, random_state=42)\n",
    "\n",
    "# Train Random Forest\n",
    "model = RandomForestClassifier(n_estimators=50, random_state=42)\n",
    "model.fit(X_train, y_train)\n",
    "\n",
    "# Predict and compute ROC-AUC Score\n",
    "y_pred_prob = model.predict_proba(X_test)[:, 1]  # Probabilities for class 1\n",
    "print(\"ROC-AUC Score:\", roc_auc_score(y_test, y_pred_prob))\n"
   ]
  },
  {
   "cell_type": "markdown",
   "id": "81baeb1d-dbcb-4dc5-ac85-2d26380fb940",
   "metadata": {},
   "source": [
    "##### 42.Train a Bagging Classifier and evaluate its performance using cross-validation."
   ]
  },
  {
   "cell_type": "code",
   "execution_count": 107,
   "id": "b52d5caf-80dc-4bdd-a290-34902f7421d7",
   "metadata": {},
   "outputs": [
    {
     "name": "stdout",
     "output_type": "stream",
     "text": [
      "Cross-Validation Accuracy Scores: [0.88   0.8875 0.89   0.905  0.92  ]\n",
      "Mean Accuracy: 0.8965\n"
     ]
    }
   ],
   "source": [
    "from sklearn.ensemble import BaggingClassifier\n",
    "from sklearn.tree import DecisionTreeClassifier\n",
    "from sklearn.model_selection import cross_val_score\n",
    "\n",
    "# Create dataset\n",
    "X, y = make_classification(n_samples=2000, n_features=4, random_state=42)\n",
    "\n",
    "# Train Bagging Classifier with Cross-Validation\n",
    "model = BaggingClassifier(estimator=DecisionTreeClassifier(), n_estimators=10, random_state=42)\n",
    "scores = cross_val_score(model, X, y, cv=5, scoring='accuracy')\n",
    "\n",
    "# Print cross-validation results\n",
    "print(\"Cross-Validation Accuracy Scores:\", scores)\n",
    "print(\"Mean Accuracy:\", scores.mean())\n"
   ]
  },
  {
   "cell_type": "markdown",
   "id": "0b3dd959-52c3-405b-961f-610359e813f0",
   "metadata": {},
   "source": [
    "##### 43.Train a Random Forest Classifier and plot the Precision - Recall curve."
   ]
  },
  {
   "cell_type": "code",
   "execution_count": 109,
   "id": "25ad4768-14c7-4e47-a1c6-aadf6b9da498",
   "metadata": {},
   "outputs": [
    {
     "data": {
      "image/png": "[encoded data removed]",
      "text/plain": [
       "<Figure size 640x480 with 1 Axes>"
      ]
     },
     "metadata": {},
     "output_type": "display_data"
    }
   ],
   "source": [
    "from sklearn.ensemble import RandomForestClassifier\n",
    "from sklearn.metrics import precision_recall_curve\n",
    "\n",
    "\n",
    "# Create dataset\n",
    "X, y = make_classification(n_samples=500, n_features=5, random_state=42)\n",
    "\n",
    "# Split data\n",
    "X_train, X_test, y_train, y_test = train_test_split(X, y, test_size=0.2, random_state=42)\n",
    "\n",
    "# Train Random Forest\n",
    "model = RandomForestClassifier(n_estimators=50, random_state=42)\n",
    "model.fit(X_train, y_train)\n",
    "\n",
    "# Predict probabilities\n",
    "y_pred_prob = model.predict_proba(X_test)[:, 1]\n",
    "\n",
    "# Compute precision-recall curve\n",
    "precision, recall, _ = precision_recall_curve(y_test, y_pred_prob)\n",
    "\n",
    "# Plot the curve\n",
    "plt.plot(recall, precision, marker='.')\n",
    "plt.xlabel(\"Recall\")\n",
    "plt.ylabel(\"Precision\")\n",
    "plt.title(\"Precision-Recall Curve\")\n",
    "plt.show()\n"
   ]
  },
  {
   "cell_type": "markdown",
   "id": "6e36a10c-cc39-4af2-b87c-72b0eb761236",
   "metadata": {},
   "source": [
    "##### 44.Train a Stacking Classifier with Random Forest and Logistic Regression and compare accuracy."
   ]
  },
  {
   "cell_type": "code",
   "execution_count": 111,
   "id": "694e2524-3ed5-4568-985b-11c078f6df3b",
   "metadata": {},
   "outputs": [
    {
     "name": "stdout",
     "output_type": "stream",
     "text": [
      "Stacking Classifier Accuracy: 0.96\n"
     ]
    }
   ],
   "source": [
    "from sklearn.ensemble import StackingClassifier\n",
    "from sklearn.ensemble import RandomForestClassifier\n",
    "from sklearn.linear_model import LogisticRegression\n",
    "\n",
    "# Create dataset\n",
    "X, y = make_classification(n_samples=500, n_features=5, random_state=42)\n",
    "\n",
    "# Split data\n",
    "X_train, X_test, y_train, y_test = train_test_split(X, y, test_size=0.2, random_state=42)\n",
    "\n",
    "# Define base models\n",
    "base_models = [\n",
    "    ('rf', RandomForestClassifier(n_estimators=50, random_state=42))\n",
    "]\n",
    "\n",
    "# Define stacking classifier\n",
    "stack_model = StackingClassifier(estimators=base_models, final_estimator=LogisticRegression())\n",
    "stack_model.fit(X_train, y_train)\n",
    "\n",
    "# Predict and print accuracy\n",
    "y_pred = stack_model.predict(X_test)\n",
    "print(\"Stacking Classifier Accuracy:\", accuracy_score(y_test, y_pred))\n"
   ]
  },
  {
   "cell_type": "markdown",
   "id": "079bb1eb-4f38-4640-864b-f6861daf3770",
   "metadata": {},
   "source": [
    "##### 45.Train a Bagging Regressor with different levels of bootstrap samples and compare performance."
   ]
  },
  {
   "cell_type": "code",
   "execution_count": 115,
   "id": "1315bc3d-bb89-4c22-b3d1-71b732c29706",
   "metadata": {},
   "outputs": [
    {
     "name": "stdout",
     "output_type": "stream",
     "text": [
      "Bootstrap=True, MSE: 1713.318608798281\n",
      "Bootstrap=False, MSE: 3126.501666699227\n"
     ]
    }
   ],
   "source": [
    "from sklearn.ensemble import BaggingRegressor\n",
    "from sklearn.tree import DecisionTreeRegressor\n",
    "from sklearn.datasets import make_regression\n",
    "\n",
    "# Create dataset\n",
    "X, y = make_regression(n_samples=500, n_features=5, random_state=42)\n",
    "\n",
    "# Split data\n",
    "X_train, X_test, y_train, y_test = train_test_split(X, y, test_size=0.2, random_state=42)\n",
    "\n",
    "# Train Bagging Regressor with different bootstrap sample levels\n",
    "for bootstrap in [True, False]:  # True enables bootstrap, False disables it\n",
    "    model = BaggingRegressor(estimator=DecisionTreeRegressor(), n_estimators=10, bootstrap=bootstrap, random_state=42)\n",
    "    model.fit(X_train, y_train)\n",
    "    y_pred = model.predict(X_test)\n",
    "    print(f\"Bootstrap={bootstrap}, MSE: {mean_squared_error(y_test, y_pred)}\")\n"
   ]
  },
  {
   "cell_type": "code",
   "execution_count": null,
   "id": "231f5427-e243-4586-bb23-e3512a467930",
   "metadata": {},
   "outputs": [],
   "source": []
  }
 ],
 "metadata": {
  "kernelspec": {
   "display_name": "Python 3 (ipykernel)",
   "language": "python",
   "name": "python3"
  },
  "language_info": {
   "codemirror_mode": {
    "name": "ipython",
    "version": 3
   },
   "file_extension": ".py",
   "mimetype": "text/x-python",
   "name": "python",
   "nbconvert_exporter": "python",
   "pygments_lexer": "ipython3",
   "version": "3.12.4"
  }
 },
 "nbformat": 4,
 "nbformat_minor": 5
}
