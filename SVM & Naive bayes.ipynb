{
 "cells": [
  {
   "cell_type": "markdown",
   "id": "68014863-e1c6-470b-9176-5ade9b4a8d6b",
   "metadata": {},
   "source": [
    "##### 1.What is a Support Vector Machine (SVM)?"
   ]
  },
  {
   "cell_type": "code",
   "execution_count": null,
   "id": "156cf6d5-72ab-4f04-9be4-b3f7604b883e",
   "metadata": {},
   "outputs": [],
   "source": [
    "#Ans - A Support Vector Machine (SVM) is a supervised learning algorithm used for classification and regression. \n",
    "#It works by finding the optimal hyperplane that best separates data points of different classes."
   ]
  },
  {
   "cell_type": "markdown",
   "id": "ad7392bb-b670-49ee-8de6-cf0d7b3c9fa6",
   "metadata": {},
   "source": [
    "##### 2.What is the difference between Hard Margin and Soft Margin SVM?"
   ]
  },
  {
   "cell_type": "code",
   "execution_count": null,
   "id": "6b98dc91-5041-4b3a-90c1-01e0b4d27d3e",
   "metadata": {},
   "outputs": [],
   "source": [
    "#Ans - Hard Margin SVM\n",
    "#Used when data is perfectly separable.\n",
    "#No misclassification is allowed.\n",
    "#Tries to maximize the margin without any tolerance for errors.\n",
    "\n",
    "#Soft Margin SVM\n",
    "#Used when data is not perfectly separable.\n",
    "#Allows some misclassification to improve generalization.\n",
    "#Introduces a slack variable (ξξ) to balance margin size and classification error."
   ]
  },
  {
   "cell_type": "markdown",
   "id": "f508ad21-ff6a-49f4-9663-4a7751a76241",
   "metadata": {},
   "source": [
    "##### 3.What is the mathematical intuition behind SVM?"
   ]
  },
  {
   "cell_type": "code",
   "execution_count": null,
   "id": "4918d0fa-2bde-453c-a6da-de33c96c89d9",
   "metadata": {},
   "outputs": [],
   "source": [
    "#SVM finds the optimal hyperplane that maximizes the margin between classes. It solves the optimization problem:\n",
    "#    min⁡1/2∣∣w∣∣^2\n",
    "# subject to yi(w.xi+b)≥1.\n",
    "#For non-linearly separable data, it uses Soft Margin (allows misclassification) and the Kernel Trick to transform data into higher dimensions."
   ]
  },
  {
   "cell_type": "markdown",
   "id": "729cae5d-f2f3-4c74-acf5-3a3749dfc1a6",
   "metadata": {},
   "source": [
    "##### 4.What is the role of Lagrange Multipliers in SVM?"
   ]
  },
  {
   "cell_type": "code",
   "execution_count": null,
   "id": "aedcd893-bb33-4661-90ba-c2ce155cbe90",
   "metadata": {},
   "outputs": [],
   "source": [
    "#Ans - Lagrange Multipliers help convert the constrained optimization problem in SVM into an unconstrained one.\n",
    "# They introduce dual formulation, making it easier to solve using quadratic programming. \n",
    "# This approach also allows the kernel trick for non-linearly separable data."
   ]
  },
  {
   "cell_type": "markdown",
   "id": "0283772f-adbf-4c8a-9a5a-eb87440dfdff",
   "metadata": {},
   "source": [
    "##### 5.What are Support Vectors in SVM?"
   ]
  },
  {
   "cell_type": "code",
   "execution_count": null,
   "id": "5c309b90-e4ef-4c7e-97f9-0a09c656485a",
   "metadata": {},
   "outputs": [],
   "source": [
    "#Ans - Support Vectors are the data points closest to the hyperplane in SVM.\n",
    "#They define the margin and influence the decision boundary. "
   ]
  },
  {
   "cell_type": "markdown",
   "id": "513548af-8a8c-4c57-9585-b75f56a74d9e",
   "metadata": {},
   "source": [
    "##### 6.What is a Support Vector Classifier?"
   ]
  },
  {
   "cell_type": "code",
   "execution_count": null,
   "id": "20328261-bbcb-4d1c-8ebd-f0b53af9c30b",
   "metadata": {},
   "outputs": [],
   "source": [
    "#Ans - A Support Vector Classifier (SVC) is an SVM used for classification.\n",
    "# It finds the optimal hyperplane that maximizes the margin between classes while allowing some misclassification (soft margin) for better generalization."
   ]
  },
  {
   "cell_type": "markdown",
   "id": "6a56d217-8ab4-493e-b8f1-76fa1f600f9a",
   "metadata": {},
   "source": [
    "##### 7.What is a Support Vector Regressor (SVR)?"
   ]
  },
  {
   "cell_type": "code",
   "execution_count": null,
   "id": "936a2277-9cff-4623-b92f-424a57f3b07b",
   "metadata": {},
   "outputs": [],
   "source": [
    "#Ans -A Support Vector Regressor (SVR) is an SVM used for regression tasks.\n",
    "#It finds a function that fits the data within a margin of tolerance (ε-tube) while minimizing errors.\n",
    "#It uses support vectors to define the model and can handle non-linear regression using kernels."
   ]
  },
  {
   "cell_type": "markdown",
   "id": "73e1e41d-df54-4632-aa90-cf1e13f62b5f",
   "metadata": {},
   "source": [
    "##### 8.What is the Kernel Trick in SVM?"
   ]
  },
  {
   "cell_type": "code",
   "execution_count": null,
   "id": "4bbc0ad0-fe0c-483b-b98e-9406d57d0262",
   "metadata": {},
   "outputs": [],
   "source": [
    "#Ans - The Kernel Trick allows SVM to handle non-linearly separable data by mapping it to a higher-dimensional space without explicit computation.\n",
    "# This enables efficient classification using kernels like Linear, Polynomial, and RBF. "
   ]
  },
  {
   "cell_type": "markdown",
   "id": "95eb0f62-f747-4478-be07-c1e7bff640f9",
   "metadata": {},
   "source": [
    "##### 9.Compare Linear Kernel, Polynomial Kernel, and RBF Kernel."
   ]
  },
  {
   "cell_type": "code",
   "execution_count": null,
   "id": "1de3ba1a-0cf8-4f84-b1c4-9f2419c4d45d",
   "metadata": {},
   "outputs": [],
   "source": [
    "#Ans - The Linear Kernel is simple and works for linearly separable data. \n",
    "#The Polynomial Kernel captures curved patterns and suits moderately nonlinear data. \n",
    "#The RBF Kernel is highly flexible and best for complex, nonlinear data but is computationally expensive."
   ]
  },
  {
   "cell_type": "markdown",
   "id": "397997fd-cb41-450e-968b-f084dcbe14d0",
   "metadata": {},
   "source": [
    "##### 10.What is the effect of the C parameter in SVM?"
   ]
  },
  {
   "cell_type": "code",
   "execution_count": null,
   "id": "a4f10825-875c-477e-a272-327ccdee44d9",
   "metadata": {},
   "outputs": [],
   "source": [
    "#Ans - The C parameter in SVM controls the trade-off between margin size and misclassification penalty:\n",
    "# High C → Small margin, fewer misclassifications (risk of overfitting).\n",
    "# Low C → Large margin, more misclassifications allowed (better generalization)."
   ]
  },
  {
   "cell_type": "markdown",
   "id": "b26c9054-0d0e-457b-b48f-95f44b8bae68",
   "metadata": {},
   "source": [
    "##### 11.What is the role of the Gamma parameter in RBF Kernel SVM?"
   ]
  },
  {
   "cell_type": "code",
   "execution_count": null,
   "id": "f7b9730f-0703-4096-983c-0908d76c9d64",
   "metadata": {},
   "outputs": [],
   "source": [
    "#Ans - Gamma controls how far the influence of a single data point reaches.\n",
    "#Low gamma: Points far apart affect each other → smoother decision boundary.\n",
    "#High gamma: Only nearby points influence each other → more complex boundary."
   ]
  },
  {
   "cell_type": "markdown",
   "id": "bfad168b-60ce-44d0-93b9-3405373c34ba",
   "metadata": {},
   "source": [
    "##### 12.What is the Naïve Bayes classifier, and why is it called \"Naïve\"?"
   ]
  },
  {
   "cell_type": "code",
   "execution_count": null,
   "id": "9eb5b90e-b659-49bb-b819-5cf4aaec0ac8",
   "metadata": {},
   "outputs": [],
   "source": [
    "#Ans - Naïve Bayes is a classification algorithm based on Bayes' Theorem. It assumes that features are independent given the class label.\n",
    "#It is called \"Naïve\" because it makes a strong assumption that all features are independent, which is rarely true in real-world data."
   ]
  },
  {
   "cell_type": "markdown",
   "id": "bef285ec-b527-40ba-ab9a-67b4bca4ce91",
   "metadata": {},
   "source": [
    "##### 13.What is Bayes’ Theorem?"
   ]
  },
  {
   "cell_type": "code",
   "execution_count": null,
   "id": "3ac5e0bc-9c88-46a9-85c0-0e0b3d7125b3",
   "metadata": {},
   "outputs": [],
   "source": [
    "#Ans - Bayes' Theorem calculates the probability of an event based on prior knowledge of related conditions.\n",
    "#Formula:    P(A∣B)=(P(B∣A)⋅P(A))/P(B)​"
   ]
  },
  {
   "cell_type": "markdown",
   "id": "d080a0d7-3049-43b0-8088-63fb02357325",
   "metadata": {},
   "source": [
    "##### 14.Explain the differences between Gaussian Naïve Bayes, Multinomial Naïve Bayes, and Bernoulli Naïve Bayes."
   ]
  },
  {
   "cell_type": "code",
   "execution_count": null,
   "id": "aa51371c-8698-4e60-a093-d7c1254c2dac",
   "metadata": {},
   "outputs": [],
   "source": [
    "#Ans - Gaussian Naïve Bayes (GNB) → For continuous data, assumes normal distribution.\n",
    "#Multinomial Naïve Bayes (MNB) → For count data, used in text classification.\n",
    "#Bernoulli Naïve Bayes (BNB) → For binary data, checks word presence/absence."
   ]
  },
  {
   "cell_type": "markdown",
   "id": "a080304d-9c3c-48ae-9cf5-748c7bfc5810",
   "metadata": {},
   "source": [
    "##### 15.When should you use Gaussian Naïve Bayes over other variants?"
   ]
  },
  {
   "cell_type": "code",
   "execution_count": null,
   "id": "4f54d342-9f93-4af4-a07f-f4390d45bf35",
   "metadata": {},
   "outputs": [],
   "source": [
    "#Ans - Use Gaussian Naïve Bayes when features are continuous and follow a normal (Gaussian) distribution.\n",
    "#like height, weight, or temperature."
   ]
  },
  {
   "cell_type": "markdown",
   "id": "4bfc1265-472c-41d0-9cbf-6d8db5cf219d",
   "metadata": {},
   "source": [
    "##### 16.What are the key assumptions made by Naïve Bayes?"
   ]
  },
  {
   "cell_type": "code",
   "execution_count": null,
   "id": "42896763-9591-4729-906f-8588adb0b4eb",
   "metadata": {},
   "outputs": [],
   "source": [
    "#Ans - Feature Independence → All features are independent given the class.\n",
    "#Equal Importance → Each feature contributes equally to the outcome.\n",
    "#Conditional Probability → Uses Bayes’ Theorem to compute class probabilities."
   ]
  },
  {
   "cell_type": "markdown",
   "id": "53907594-d838-48ef-8424-c2ff526d4a62",
   "metadata": {},
   "source": [
    "##### 17.What are the advantages and disadvantages of Naïve Bayes?"
   ]
  },
  {
   "cell_type": "code",
   "execution_count": null,
   "id": "d098f6d2-81c0-4dfa-acb4-b7d699a29303",
   "metadata": {},
   "outputs": [],
   "source": [
    "#Ans - Advantages:                           \n",
    "# Fast & efficient\n",
    "# Works well with small data\n",
    "# Good for text classification\n",
    "\n",
    "#Disadvantages:\n",
    "#Assumes feature independence\n",
    "# Fails with correlated features\n",
    "# Zero probability issue (fixed by smoothing)"
   ]
  },
  {
   "cell_type": "markdown",
   "id": "7ac55afd-5c10-4642-8cc5-dbd193507a3e",
   "metadata": {},
   "source": [
    "##### 18.Why is Naïve Bayes a good choice for text classification?"
   ]
  },
  {
   "cell_type": "code",
   "execution_count": null,
   "id": "84550600-9811-40a6-a706-3148395c114b",
   "metadata": {},
   "outputs": [],
   "source": [
    "#Ans - Naïve Bayes a good choice for text classification because:-\n",
    "#Handles high-dimensional data well (many words/features).\n",
    "#Fast and efficient for large datasets.\n",
    "#Works well with small training data.\n",
    "#Performs well despite feature independence assumption."
   ]
  },
  {
   "cell_type": "markdown",
   "id": "2a0dff1b-db82-47e9-931c-0c203000de56",
   "metadata": {},
   "source": [
    "##### 19.Compare SVM and Naïve Bayes for classification tasks."
   ]
  },
  {
   "cell_type": "code",
   "execution_count": null,
   "id": "311b0167-8d9c-47fe-81ed-3032d9b7bb7e",
   "metadata": {},
   "outputs": [],
   "source": [
    "#Ans - SVM vs. Naïve Bayes\n",
    "#Speed: SVM is slower; Naïve Bayes is very fast.\n",
    "#Data Size: SVM needs more data; Naïve Bayes works well with small data.\n",
    "#Feature Dependency: SVM handles correlated features; Naïve Bayes assumes independence."
   ]
  },
  {
   "cell_type": "markdown",
   "id": "e38339e2-a987-459e-9c1c-4cc6a1700565",
   "metadata": {},
   "source": [
    "##### 20.How does Laplace Smoothing help in Naïve Bayes?"
   ]
  },
  {
   "cell_type": "code",
   "execution_count": null,
   "id": "7dec1730-99fa-4554-84d2-81b123b3414c",
   "metadata": {},
   "outputs": [],
   "source": [
    "#Ans - Laplace Smoothing prevents zero probability issues by adding a small value (usually 1) to all counts.\n",
    "#Helps when a word/category is missing in training data.\n",
    "#Ensures no probability becomes zero.\n",
    "#Improves model generalization."
   ]
  },
  {
   "cell_type": "markdown",
   "id": "32582996-3ed5-47c7-8ea7-961e8f626564",
   "metadata": {},
   "source": [
    "## Practical"
   ]
  },
  {
   "cell_type": "code",
   "execution_count": 4,
   "id": "ca4ed1b5-b0bf-45e9-82d0-054670f9d7b3",
   "metadata": {},
   "outputs": [],
   "source": [
    "import numpy as np\n",
    "import matplotlib.pyplot as plt\n",
    "import seaborn as sns\n",
    "import pandas as pd\n",
    "import warnings\n",
    "warnings.filterwarnings('ignore')"
   ]
  },
  {
   "cell_type": "code",
   "execution_count": 6,
   "id": "037b52b4-58fa-4342-a990-423e5bd160d6",
   "metadata": {},
   "outputs": [],
   "source": [
    "from sklearn import datasets\n",
    "from sklearn.model_selection import train_test_split\n",
    "from sklearn.svm import SVC\n",
    "from sklearn.metrics import accuracy_score"
   ]
  },
  {
   "cell_type": "markdown",
   "id": "ada4515d-69c2-4ef7-9644-3b023d10dce5",
   "metadata": {},
   "source": [
    "##### 21.Write a Python program to train an SVM Classifier on the Iris dataset and evaluate accuracy."
   ]
  },
  {
   "cell_type": "code",
   "execution_count": 17,
   "id": "7931ae60-f529-470f-b9c9-9facbe0304ec",
   "metadata": {},
   "outputs": [
    {
     "name": "stdout",
     "output_type": "stream",
     "text": [
      "SVM Classifier Accuracy: 1.0\n"
     ]
    }
   ],
   "source": [
    "iris = datasets.load_iris()\n",
    "X, y = iris.data, iris.target\n",
    "# Split into train and test.\n",
    "X_train, X_test, y_train, y_test = train_test_split(X, y, test_size=0.2, random_state=42)\n",
    "\n",
    "# Train SVM classifier\n",
    "svm_model = SVC(kernel='linear')\n",
    "svm_model.fit(X_train, y_train)\n",
    "\n",
    "# Predict and evaluate accuracy\n",
    "y_pred = svm_model.predict(X_test)\n",
    "accuracy = accuracy_score(y_test, y_pred)\n",
    "print(\"SVM Classifier Accuracy:\", accuracy)\n"
   ]
  },
  {
   "cell_type": "markdown",
   "id": "a9c7cc03-88f5-4684-8f89-1dbb1900b2ac",
   "metadata": {},
   "source": [
    "##### 22.Write a Python program to train two SVM classifiers with Linear and RBF kernels on the Wine dataset, then compare their accuracies."
   ]
  },
  {
   "cell_type": "code",
   "execution_count": 20,
   "id": "a0dec35e-3335-43a6-9e79-7e89655c39a9",
   "metadata": {},
   "outputs": [
    {
     "name": "stdout",
     "output_type": "stream",
     "text": [
      "Linear Kernel Accuracy: 1.0\n",
      "RBF Kernel Accuracy: 0.8055555555555556\n"
     ]
    }
   ],
   "source": [
    "wine = datasets.load_wine()\n",
    "X, y = wine.data, wine.target\n",
    "\n",
    "# Split into train and test sets\n",
    "X_train, X_test, y_train, y_test = train_test_split(X, y, test_size=0.2, random_state=42)\n",
    "\n",
    "# Train SVM with Linear kernel\n",
    "svm_linear = SVC(kernel='linear')\n",
    "svm_linear.fit(X_train, y_train)\n",
    "linear_acc = accuracy_score(y_test, svm_linear.predict(X_test))\n",
    "\n",
    "# Train SVM with RBF kernel\n",
    "svm_rbf = SVC(kernel='rbf')\n",
    "svm_rbf.fit(X_train, y_train)\n",
    "rbf_acc = accuracy_score(y_test, svm_rbf.predict(X_test))\n",
    "\n",
    "print(\"Linear Kernel Accuracy:\", linear_acc)\n",
    "print(\"RBF Kernel Accuracy:\", rbf_acc)\n"
   ]
  },
  {
   "cell_type": "markdown",
   "id": "6a7e66e3-cfd7-4eb0-a5fd-b3b9f94e6b89",
   "metadata": {},
   "source": [
    "##### 23.Write a Python program to train an SVM Regressor (SVR) on a housing dataset and evaluate it using Mean Squared Error (MSE)."
   ]
  },
  {
   "cell_type": "code",
   "execution_count": 82,
   "id": "c2ffcb60-46a0-40f2-beec-36e623478e1e",
   "metadata": {},
   "outputs": [
    {
     "name": "stdout",
     "output_type": "stream",
     "text": [
      "MSE: 1.3320115421348737\n"
     ]
    }
   ],
   "source": [
    "from sklearn import datasets\n",
    "from sklearn.model_selection import train_test_split\n",
    "from sklearn.svm import SVR\n",
    "from sklearn.metrics import mean_squared_error\n",
    "\n",
    "# Load housing dataset\n",
    "X, y = datasets.fetch_california_housing(return_X_y=True)\n",
    "\n",
    "# Split dataset\n",
    "X_train, X_test, y_train, y_test = train_test_split(X, y, test_size=0.2, random_state=42)\n",
    "\n",
    "# Train SVR model\n",
    "svr = SVR()\n",
    "svr.fit(X_train, y_train)\n",
    "\n",
    "# Predictions and MSE calculation\n",
    "y_pred = svr.predict(X_test)\n",
    "print(\"MSE:\", mean_squared_error(y_test, y_pred))\n"
   ]
  },
  {
   "cell_type": "markdown",
   "id": "eee969b0-bd02-47ab-a3b9-6f5a1f101d21",
   "metadata": {},
   "source": [
    "##### 24. Write a Python program to train an SVM Classifier with a Polynomial Kernel and visualize the decision boundary."
   ]
  },
  {
   "cell_type": "code",
   "execution_count": 31,
   "id": "517db721-3025-4693-9e41-2bbe07cf1536",
   "metadata": {},
   "outputs": [
    {
     "data": {
      "image/png": "[encoded data removed]",
      "text/plain": [
       "<Figure size 640x480 with 1 Axes>"
      ]
     },
     "metadata": {},
     "output_type": "display_data"
    }
   ],
   "source": [
    "# Load Iris dataset (using first two features)\n",
    "iris = datasets.load_iris()\n",
    "X, y = iris.data[:, :2], iris.target\n",
    "\n",
    "# Train SVM with Polynomial Kernel\n",
    "svm_poly = SVC(kernel='poly', degree=3)\n",
    "svm_poly.fit(X, y)\n",
    "\n",
    "# Create grid for decision boundary\n",
    "xx, yy = np.meshgrid(np.linspace(X[:, 0].min(), X[:, 0].max(), 100),\n",
    "                     np.linspace(X[:, 1].min(), X[:, 1].max(), 100))\n",
    "Z = svm_poly.predict(np.c_[xx.ravel(), yy.ravel()]).reshape(xx.shape)\n",
    "\n",
    "# Plot decision boundary\n",
    "plt.contourf(xx, yy, Z, alpha=0.3)\n",
    "plt.scatter(X[:, 0], X[:, 1], c=y, edgecolors='k')\n",
    "plt.title(\"SVM with Polynomial Kernel\")\n",
    "plt.show()\n"
   ]
  },
  {
   "cell_type": "markdown",
   "id": "a1aafd51-7b04-4352-8597-54b1d8fad49e",
   "metadata": {},
   "source": [
    "##### 25.Write a Python program to train a Gaussian Naïve Bayes classifier on the Breast Cancer dataset and evaluate accuracy."
   ]
  },
  {
   "cell_type": "code",
   "execution_count": 36,
   "id": "1bef8b85-d4e2-4e28-a17e-9a7de7e7b8d7",
   "metadata": {},
   "outputs": [
    {
     "name": "stdout",
     "output_type": "stream",
     "text": [
      "Naïve Bayes Classifier Accuracy: 0.9736842105263158\n"
     ]
    }
   ],
   "source": [
    "from sklearn.naive_bayes import GaussianNB\n",
    "# Load dataset\n",
    "cancer = datasets.load_breast_cancer()\n",
    "X, y = cancer.data, cancer.target\n",
    "\n",
    "# Split into train and test sets\n",
    "X_train, X_test, y_train, y_test = train_test_split(X, y, test_size=0.2, random_state=42)\n",
    "\n",
    "# Train Gaussian Naïve Bayes model\n",
    "gnb = GaussianNB()\n",
    "gnb.fit(X_train, y_train)\n",
    "\n",
    "# Predict and evaluate accuracy\n",
    "y_pred = gnb.predict(X_test)\n",
    "accuracy = accuracy_score(y_test, y_pred)\n",
    "print(\"Naïve Bayes Classifier Accuracy:\", accuracy)\n"
   ]
  },
  {
   "cell_type": "markdown",
   "id": "e2235053-8970-4f8f-86e0-33375a8e00e1",
   "metadata": {},
   "source": [
    "##### 27.Write a Python program to train an SVM Classifier with different C values and compare the decision boundaries visually."
   ]
  },
  {
   "cell_type": "code",
   "execution_count": 9,
   "id": "1becd05c-ed9b-43cc-a354-19ebf5376878",
   "metadata": {},
   "outputs": [
    {
     "data": {
      "image/png": "[encoded data removed]",
      "text/plain": [
       "<Figure size 1200x400 with 3 Axes>"
      ]
     },
     "metadata": {},
     "output_type": "display_data"
    }
   ],
   "source": [
    "from sklearn.svm import SVC\n",
    "from sklearn.datasets import make_blobs\n",
    "\n",
    "# Generate simple 2D data\n",
    "X, y = make_blobs(n_samples=100, centers=2, random_state=42, cluster_std=1.5)\n",
    "\n",
    "# Different C values\n",
    "C_values = [0.1, 1, 10]\n",
    "\n",
    "plt.figure(figsize=(12, 4))\n",
    "\n",
    "for i, C in enumerate(C_values):\n",
    "    model = SVC(kernel='linear', C=C).fit(X, y)\n",
    "    \n",
    "    # Create grid for decision boundary\n",
    "    xx, yy = np.meshgrid(np.linspace(X[:, 0].min()-1, X[:, 0].max()+1, 100),\n",
    "                         np.linspace(X[:, 1].min()-1, X[:, 1].max()+1, 100))\n",
    "    Z = model.predict(np.c_[xx.ravel(), yy.ravel()]).reshape(xx.shape)\n",
    "\n",
    "    plt.subplot(1, 3, i + 1)\n",
    "    plt.contourf(xx, yy, Z, alpha=0.3)\n",
    "    plt.scatter(X[:, 0], X[:, 1], c=y, edgecolors='k')\n",
    "    plt.title(f\"SVM (C={C})\")\n",
    "\n",
    "plt.tight_layout()\n",
    "plt.show()\n"
   ]
  },
  {
   "cell_type": "markdown",
   "id": "93d21d93-ce18-4061-97ed-ed207bbbe738",
   "metadata": {},
   "source": [
    "##### 28.Write a Python program to train a Bernoulli Naïve Bayes classifier for binary classification on a dataset with binary features."
   ]
  },
  {
   "cell_type": "code",
   "execution_count": 14,
   "id": "9907b250-5bfb-4c42-9bd1-2af0491113a5",
   "metadata": {},
   "outputs": [
    {
     "name": "stdout",
     "output_type": "stream",
     "text": [
      "Accuracy: 0.865\n"
     ]
    }
   ],
   "source": [
    "from sklearn.datasets import make_classification\n",
    "from sklearn.naive_bayes import BernoulliNB\n",
    "\n",
    "X, y = make_classification(n_samples=200, n_features=10, n_classes=2, random_state=42)\n",
    "X = (X > 0).astype(int)  \n",
    "\n",
    "model = BernoulliNB().fit(X, y)\n",
    "\n",
    "print(\"Accuracy:\", model.score(X, y))\n"
   ]
  },
  {
   "cell_type": "markdown",
   "id": "a32f3d96-8af6-4b0d-9468-fcd4186e59d2",
   "metadata": {},
   "source": [
    "##### 29.Write a Python program to apply feature scaling before training an SVM model and compare results with unscaled data."
   ]
  },
  {
   "cell_type": "code",
   "execution_count": 16,
   "id": "d09cbe15-1dad-4668-8e84-b83da6709642",
   "metadata": {},
   "outputs": [
    {
     "name": "stdout",
     "output_type": "stream",
     "text": [
      "Unscaled Accuracy: 0.8055555555555556\n",
      "Scaled Accuracy: 1.0\n"
     ]
    }
   ],
   "source": [
    "from sklearn.preprocessing import StandardScaler\n",
    "X, y = datasets.load_wine(return_X_y=True)\n",
    "X_train, X_test, y_train, y_test = train_test_split(X, y, test_size=0.2, random_state=42)\n",
    "\n",
    "svm_unscaled = SVC().fit(X_train, y_train)\n",
    "unscaled_acc = svm_unscaled.score(X_test, y_test)\n",
    "\n",
    "scaler = StandardScaler()\n",
    "X_train_scaled = scaler.fit_transform(X_train)\n",
    "X_test_scaled = scaler.transform(X_test)\n",
    "\n",
    "svm_scaled = SVC().fit(X_train_scaled, y_train)\n",
    "scaled_acc = svm_scaled.score(X_test_scaled, y_test)\n",
    "\n",
    "print(\"Unscaled Accuracy:\", unscaled_acc)\n",
    "print(\"Scaled Accuracy:\", scaled_acc)\n"
   ]
  },
  {
   "cell_type": "markdown",
   "id": "4dac16c5-e494-4ca3-a913-7affd10b6515",
   "metadata": {},
   "source": [
    "##### 30.Write a Python program to train a Gaussian Naïve Bayes model and compare the predictions before and after Laplace Smoothing."
   ]
  },
  {
   "cell_type": "code",
   "execution_count": 18,
   "id": "bc701e04-d07b-4155-884f-f2c28f78f1f2",
   "metadata": {},
   "outputs": [
    {
     "name": "stdout",
     "output_type": "stream",
     "text": [
      "Accuracy: 0.9420035149384886\n"
     ]
    }
   ],
   "source": [
    "from sklearn import datasets\n",
    "from sklearn.naive_bayes import GaussianNB\n",
    "\n",
    "X, y = datasets.load_breast_cancer(return_X_y=True)\n",
    "\n",
    "model = GaussianNB(var_smoothing=1e-9).fit(X, y)\n",
    "print(\"Accuracy:\", model.score(X, y))\n"
   ]
  },
  {
   "cell_type": "markdown",
   "id": "e119b576-d104-4738-a3d5-ad17c95e0353",
   "metadata": {},
   "source": [
    "##### 31.Write a Python program to train an SVM Classifier and use GridSearchCV to tune the hyperparameters (C,gamma, kernel)."
   ]
  },
  {
   "cell_type": "code",
   "execution_count": 10,
   "id": "3d27c9e4-f25e-47cf-8522-2559a435d823",
   "metadata": {},
   "outputs": [
    {
     "name": "stdout",
     "output_type": "stream",
     "text": [
      "Best Parameters: {'C': 1, 'gamma': 'scale', 'kernel': 'linear'}\n",
      "Accuracy: 1.0\n"
     ]
    }
   ],
   "source": [
    "from sklearn.model_selection import train_test_split, GridSearchCV\n",
    "iris = datasets.load_iris()\n",
    "X, y = iris.data, iris.target\n",
    "\n",
    "# Split dataset\n",
    "X_train, X_test, y_train, y_test = train_test_split(X, y, test_size=0.2, random_state=42)\n",
    "# Define parameter grid\n",
    "param_grid = {\n",
    "    'C': [0.1, 1, 10],\n",
    "    'gamma': ['scale', 0.01, 0.1],\n",
    "    'kernel': ['linear', 'rbf']\n",
    "}\n",
    "\n",
    "# Train using GridSearchCV\n",
    "grid = GridSearchCV(SVC(), param_grid, cv=5)\n",
    "grid.fit(X_train, y_train)\n",
    "\n",
    "# Best model evaluation\n",
    "best_model = grid.best_estimator_\n",
    "y_pred = best_model.predict(X_test)\n",
    "\n",
    "print(\"Best Parameters:\", grid.best_params_)\n",
    "print(\"Accuracy:\", accuracy_score(y_test, y_pred))\n"
   ]
  },
  {
   "cell_type": "markdown",
   "id": "2c53026e-2d65-4e3d-916e-a320da0f1240",
   "metadata": {},
   "source": [
    "##### 32.Write a Python program to train an SVM Classifier on an imbalanced dataset and apply class weighting and check it improve accuracy."
   ]
  },
  {
   "cell_type": "code",
   "execution_count": 14,
   "id": "53623e5b-3cea-4658-a5ab-a29cba28ed7e",
   "metadata": {},
   "outputs": [
    {
     "name": "stdout",
     "output_type": "stream",
     "text": [
      "Class Weight=None, Accuracy: 0.895\n",
      "Class Weight=balanced, Accuracy: 0.895\n"
     ]
    }
   ],
   "source": [
    "from sklearn.datasets import make_classification\n",
    "X, y = make_classification(n_samples=1000, weights=[0.9, 0.1], random_state=42)\n",
    "X_train, X_test, y_train, y_test = train_test_split(X, y, test_size=0.2, random_state=42)\n",
    "\n",
    "for w in [None, 'balanced']:\n",
    "    model = SVC(class_weight=w).fit(X_train, y_train)\n",
    "    print(f\"Class Weight={w}, Accuracy:\", model.score(X_test, y_test))\n"
   ]
  },
  {
   "cell_type": "markdown",
   "id": "dc88d2c5-e2c0-44ce-873e-222d6d0d7cc1",
   "metadata": {},
   "source": [
    "##### 34.Write a Python program to train an SVM Classifier and a Naïve Bayes Classifier on the same dataset and compare their accuracy."
   ]
  },
  {
   "cell_type": "code",
   "execution_count": 29,
   "id": "c66a834f-aaab-44ae-a33d-ee78f259194e",
   "metadata": {},
   "outputs": [
    {
     "name": "stdout",
     "output_type": "stream",
     "text": [
      "SVM: 1.0\n",
      "Naïve Bayes: 1.0\n"
     ]
    }
   ],
   "source": [
    "from sklearn.naive_bayes import GaussianNB\n",
    "\n",
    "X, y = datasets.load_iris(return_X_y=True)\n",
    "X_train, X_test, y_train, y_test = train_test_split(X, y, test_size=0.2, random_state=42)\n",
    "\n",
    "print(\"SVM:\", SVC().fit(X_train, y_train).score(X_test, y_test))\n",
    "print(\"Naïve Bayes:\", GaussianNB().fit(X_train, y_train).score(X_test, y_test))\n"
   ]
  },
  {
   "cell_type": "markdown",
   "id": "8c98eb79-6a43-407d-9aaa-294f15719a06",
   "metadata": {},
   "source": [
    "##### 35.Write a Python program to perform feature selection before training a Naïve Bayes classifier and compare results."
   ]
  },
  {
   "cell_type": "code",
   "execution_count": 32,
   "id": "5d211034-414f-4ce9-a05b-38653d781267",
   "metadata": {},
   "outputs": [
    {
     "name": "stdout",
     "output_type": "stream",
     "text": [
      "Without FS: 0.8472222222222222\n",
      "With FS: 0.8555555555555555\n"
     ]
    }
   ],
   "source": [
    "from sklearn.datasets import load_digits\n",
    "from sklearn.naive_bayes import GaussianNB\n",
    "from sklearn.feature_selection import SelectKBest, chi2\n",
    "\n",
    "X, y = load_digits(return_X_y=True)\n",
    "X_train, X_test, y_train, y_test = train_test_split(X, y, test_size=0.2, random_state=42)\n",
    "\n",
    "fs = SelectKBest(chi2, k=30).fit(X_train, y_train)\n",
    "X_train_fs, X_test_fs = fs.transform(X_train), fs.transform(X_test)\n",
    "\n",
    "print(\"Without FS:\", GaussianNB().fit(X_train, y_train).score(X_test, y_test))\n",
    "print(\"With FS:\", GaussianNB().fit(X_train_fs, y_train).score(X_test_fs, y_test))\n"
   ]
  },
  {
   "cell_type": "markdown",
   "id": "6f729aa9-f585-4bb8-ae4c-edb49a8005d8",
   "metadata": {},
   "source": [
    "##### 36.Write a Python program to train an SVM Classifier using One-vs-Rest (OvR) and One-vs-One (OvO) strategies on the Wine dataset and compare their accuracy."
   ]
  },
  {
   "cell_type": "code",
   "execution_count": 37,
   "id": "0c6ef525-436e-4611-b47c-749b9ebeab36",
   "metadata": {},
   "outputs": [
    {
     "name": "stdout",
     "output_type": "stream",
     "text": [
      "OvR: 0.7777777777777778\n",
      "OvO: 0.8333333333333334\n"
     ]
    }
   ],
   "source": [
    "from sklearn.multiclass import OneVsRestClassifier, OneVsOneClassifier\n",
    "\n",
    "X, y = datasets.load_wine(return_X_y=True)\n",
    "X_train, X_test, y_train, y_test = train_test_split(X, y, test_size=0.2, random_state=42)\n",
    "\n",
    "print(\"OvR:\", OneVsRestClassifier(SVC()).fit(X_train, y_train).score(X_test, y_test))\n",
    "print(\"OvO:\", OneVsOneClassifier(SVC()).fit(X_train, y_train).score(X_test, y_test))\n"
   ]
  },
  {
   "cell_type": "markdown",
   "id": "a3d8d760-7587-44a3-9470-87c8044d4810",
   "metadata": {},
   "source": [
    "##### 37.Write a Python program to train an SVM Classifier using Linear, Polynomial, and RBF kernels on the Breast Cancer dataset and compare their accuracy."
   ]
  },
  {
   "cell_type": "code",
   "execution_count": 40,
   "id": "26c40f09-9c14-4b82-91c5-96f351cc25d9",
   "metadata": {},
   "outputs": [
    {
     "name": "stdout",
     "output_type": "stream",
     "text": [
      "linear: 0.956140350877193\n",
      "poly: 0.9473684210526315\n",
      "rbf: 0.9473684210526315\n"
     ]
    }
   ],
   "source": [
    "X, y = datasets.load_breast_cancer(return_X_y=True)\n",
    "X_train, X_test, y_train, y_test = train_test_split(X, y, test_size=0.2, random_state=42)\n",
    "\n",
    "for k in ['linear', 'poly', 'rbf']:\n",
    "    print(f\"{k}:\", SVC(kernel=k).fit(X_train, y_train).score(X_test, y_test))\n"
   ]
  },
  {
   "cell_type": "markdown",
   "id": "e32f2732-66b9-4995-aa55-568c110dbde3",
   "metadata": {},
   "source": [
    "##### 38.Write a Python program to train an SVM Classifier using Stratified K-Fold Cross-Validation and compute the average accuracy."
   ]
  },
  {
   "cell_type": "code",
   "execution_count": 43,
   "id": "7c89ef8a-cc94-4624-a7ff-5e2791a3b621",
   "metadata": {},
   "outputs": [
    {
     "name": "stdout",
     "output_type": "stream",
     "text": [
      "Avg Accuracy: 0.6744444444444444\n"
     ]
    }
   ],
   "source": [
    "from sklearn import datasets\n",
    "from sklearn.model_selection import StratifiedKFold, cross_val_score\n",
    "from sklearn.svm import SVC\n",
    "\n",
    "X, y = datasets.load_wine(return_X_y=True)\n",
    "cv = StratifiedKFold(n_splits=5, shuffle=True, random_state=42)\n",
    "\n",
    "print(\"Avg Accuracy:\", cross_val_score(SVC(), X, y, cv=cv).mean())\n"
   ]
  },
  {
   "cell_type": "markdown",
   "id": "c56e31cc-85b9-487e-b5fc-2326a0fe8a9d",
   "metadata": {},
   "source": [
    "##### 39.Write a Python program to train a Naïve Bayes classifier using different prior probabilities and compare performance."
   ]
  },
  {
   "cell_type": "code",
   "execution_count": 46,
   "id": "bd1baa54-c673-4a03-bb3b-ebd37473f662",
   "metadata": {},
   "outputs": [
    {
     "name": "stdout",
     "output_type": "stream",
     "text": [
      "Prior [0.2, 0.5, 0.3]: 1.0\n",
      "Prior None: 1.0\n"
     ]
    }
   ],
   "source": [
    "from sklearn.naive_bayes import GaussianNB\n",
    "\n",
    "X, y = datasets.load_wine(return_X_y=True)\n",
    "X_train, X_test, y_train, y_test = train_test_split(X, y, test_size=0.2, random_state=42)\n",
    "\n",
    "for prior in [[0.2, 0.5, 0.3], None]:\n",
    "    print(f\"Prior {prior}:\", GaussianNB(priors=prior).fit(X_train, y_train).score(X_test, y_test))\n"
   ]
  },
  {
   "cell_type": "markdown",
   "id": "7bb58814-2de4-46ef-903c-e04c7694c7ec",
   "metadata": {},
   "source": [
    "##### 40.Write a Python program to perform Recursive Feature Elimination (RFE) before training an SVM Classifier and compare accuracy."
   ]
  },
  {
   "cell_type": "code",
   "execution_count": 55,
   "id": "2edcedbb-ffb3-46ab-83f3-ad27ba94ae8c",
   "metadata": {},
   "outputs": [
    {
     "name": "stdout",
     "output_type": "stream",
     "text": [
      "Without RFE: 1.0\n",
      "With RFE: 0.9722222222222222\n"
     ]
    }
   ],
   "source": [
    "from sklearn.feature_selection import RFE\n",
    "\n",
    "# Load dataset\n",
    "X, y = datasets.load_wine(return_X_y=True)\n",
    "X_train, X_test, y_train, y_test = train_test_split(X, y, test_size=0.2, random_state=42)\n",
    "\n",
    "# Define base SVM model\n",
    "svc = SVC(kernel=\"linear\")  # Use linear kernel for feature selection\n",
    "\n",
    "# Perform RFE\n",
    "rfe = RFE(estimator=svc, n_features_to_select=5)  # Select top 5 features\n",
    "X_train_rfe = rfe.fit_transform(X_train, y_train)\n",
    "X_test_rfe = rfe.transform(X_test)\n",
    "\n",
    "# Train models and compare\n",
    "svc.fit(X_train, y_train)\n",
    "svc_rfe = SVC(kernel=\"linear\").fit(X_train_rfe, y_train)\n",
    "\n",
    "print(\"Without RFE:\", svc.score(X_test, y_test))\n",
    "print(\"With RFE:\", svc_rfe.score(X_test_rfe, y_test))\n"
   ]
  },
  {
   "cell_type": "markdown",
   "id": "5da29492-78ee-410f-975f-843d95a65f61",
   "metadata": {},
   "source": [
    "##### 41.Write a Python program to train an SVM Classifier and evaluate its performance using Precision, Recall, and F1-Score instead of accuracy."
   ]
  },
  {
   "cell_type": "code",
   "execution_count": 60,
   "id": "2de27147-f40d-4fdc-ac8b-a23f38028e64",
   "metadata": {},
   "outputs": [
    {
     "name": "stdout",
     "output_type": "stream",
     "text": [
      "Precision: 0.801058201058201\n",
      "Recall: 0.8055555555555556\n",
      "F1-Score: 0.80242656449553\n"
     ]
    }
   ],
   "source": [
    "from sklearn.metrics import precision_score, recall_score, f1_score\n",
    "\n",
    "X, y = datasets.load_wine(return_X_y=True)\n",
    "X_train, X_test, y_train, y_test = train_test_split(X, y, test_size=0.2, random_state=42)\n",
    "\n",
    "y_pred = SVC().fit(X_train, y_train).predict(X_test)\n",
    "\n",
    "print(\"Precision:\", precision_score(y_test, y_pred, average='weighted'))\n",
    "print(\"Recall:\", recall_score(y_test, y_pred, average='weighted'))\n",
    "print(\"F1-Score:\", f1_score(y_test, y_pred, average='weighted'))\n"
   ]
  },
  {
   "cell_type": "markdown",
   "id": "7cea68b8-b584-494c-8704-c37cdc1890a0",
   "metadata": {},
   "source": [
    "##### 42.Write a Python program to train a Naïve Bayes Classifier and evaluate its performance using Log Loss (Cross-Entropy Loss)."
   ]
  },
  {
   "cell_type": "code",
   "execution_count": 62,
   "id": "37b3838a-4fbe-4911-886c-43dc6ec4d044",
   "metadata": {},
   "outputs": [
    {
     "name": "stdout",
     "output_type": "stream",
     "text": [
      "Log Loss: 0.012158573021470774\n"
     ]
    }
   ],
   "source": [
    "from sklearn.naive_bayes import GaussianNB\n",
    "from sklearn.metrics import log_loss\n",
    "\n",
    "X, y = datasets.load_wine(return_X_y=True)\n",
    "X_train, X_test, y_train, y_test = train_test_split(X, y, test_size=0.2, random_state=42)\n",
    "\n",
    "y_proba = GaussianNB().fit(X_train, y_train).predict_proba(X_test)\n",
    "\n",
    "print(\"Log Loss:\", log_loss(y_test, y_proba))\n"
   ]
  },
  {
   "cell_type": "markdown",
   "id": "706a6435-0fa2-4e80-93cd-0b49f72b8345",
   "metadata": {},
   "source": [
    "##### 43.Write a Python program to train an SVM Classifier and visualize the Confusion Matrix using seaborn."
   ]
  },
  {
   "cell_type": "code",
   "execution_count": 70,
   "id": "fe964638-2ddf-4e53-9cfe-1376af62a5ca",
   "metadata": {},
   "outputs": [
    {
     "data": {
      "image/png": "[encoded data removed]",
      "text/plain": [
       "<Figure size 640x480 with 2 Axes>"
      ]
     },
     "metadata": {},
     "output_type": "display_data"
    }
   ],
   "source": [
    "from sklearn.model_selection import train_test_split\n",
    "from sklearn.metrics import confusion_matrix\n",
    "\n",
    "X, y = datasets.load_wine(return_X_y=True)\n",
    "X_train, X_test, y_train, y_test = train_test_split(X, y, test_size=0.2, random_state=42)\n",
    "\n",
    "y_pred = SVC().fit(X_train, y_train).predict(X_test)\n",
    "\n",
    "sns.heatmap(confusion_matrix(y_test, y_pred), annot=True, fmt=\"d\", cmap=\"Blues\")\n",
    "plt.xlabel(\"Predicted\"), plt.ylabel(\"Actual\"), plt.title(\"Confusion Matrix\")\n",
    "plt.show()\n"
   ]
  },
  {
   "cell_type": "markdown",
   "id": "78e4fde2-35d4-4d1d-ae56-9dbe755de7ae",
   "metadata": {},
   "source": [
    "##### 44.Write a Python program to train an SVM Regressor (SVR) and evaluate its performance using Mean Absolute Error (MAE) instead of MSE."
   ]
  },
  {
   "cell_type": "code",
   "execution_count": 76,
   "id": "e78ebbcf-2d27-41fe-b4dc-209100cc244e",
   "metadata": {},
   "outputs": [
    {
     "name": "stdout",
     "output_type": "stream",
     "text": [
      "MAE: 56.02372412801096\n"
     ]
    }
   ],
   "source": [
    "from sklearn.svm import SVR\n",
    "from sklearn.metrics import mean_absolute_error\n",
    "\n",
    "X, y = datasets.load_diabetes(return_X_y=True)\n",
    "X_train, X_test, y_train, y_test = train_test_split(X, y, test_size=0.2, random_state=42)\n",
    "\n",
    "y_pred = SVR().fit(X_train, y_train).predict(X_test)\n",
    "\n",
    "print(\"MAE:\", mean_absolute_error(y_test, y_pred))\n"
   ]
  },
  {
   "cell_type": "markdown",
   "id": "d06555cb-2d5b-4d28-8917-778cf7756d08",
   "metadata": {},
   "source": [
    "##### 45.Write a Python program to train a Naïve Bayes classifier and evaluate its performance using the ROC-AUC score."
   ]
  },
  {
   "cell_type": "code",
   "execution_count": 78,
   "id": "5607bcf7-4d52-49fa-95d7-75d250c9843f",
   "metadata": {},
   "outputs": [
    {
     "name": "stdout",
     "output_type": "stream",
     "text": [
      "ROC-AUC Score: 0.9983622666229938\n"
     ]
    }
   ],
   "source": [
    "from sklearn.naive_bayes import GaussianNB\n",
    "from sklearn.metrics import roc_auc_score\n",
    "\n",
    "X, y = datasets.load_breast_cancer(return_X_y=True)\n",
    "X_train, X_test, y_train, y_test = train_test_split(X, y, test_size=0.2, random_state=42)\n",
    "\n",
    "y_proba = GaussianNB().fit(X_train, y_train).predict_proba(X_test)[:, 1]\n",
    "\n",
    "print(\"ROC-AUC Score:\", roc_auc_score(y_test, y_proba))\n"
   ]
  },
  {
   "cell_type": "markdown",
   "id": "c9f1857c-e26b-4d4b-a569-35245ad26222",
   "metadata": {},
   "source": [
    "##### 46.Write a Python program to train an SVM Classifier and visualize the Precision-Recall Curve."
   ]
  },
  {
   "cell_type": "code",
   "execution_count": 80,
   "id": "0722bf78-b65b-4a21-b99d-1261cfe9bcdb",
   "metadata": {},
   "outputs": [
    {
     "data": {
      "image/png": "[encoded data removed]",
      "text/plain": [
       "<Figure size 640x480 with 1 Axes>"
      ]
     },
     "metadata": {},
     "output_type": "display_data"
    }
   ],
   "source": [
    "from sklearn.svm import SVC\n",
    "from sklearn.metrics import precision_recall_curve\n",
    "\n",
    "X, y = datasets.load_breast_cancer(return_X_y=True)\n",
    "X_train, X_test, y_train, y_test = train_test_split(X, y, test_size=0.2, random_state=42)\n",
    "\n",
    "y_proba = SVC(probability=True).fit(X_train, y_train).predict_proba(X_test)[:, 1]\n",
    "precision, recall, _ = precision_recall_curve(y_test, y_proba)\n",
    "\n",
    "plt.plot(recall, precision, marker=\".\")\n",
    "plt.xlabel(\"Recall\"), plt.ylabel(\"Precision\"), plt.title(\"Precision-Recall Curve\")\n",
    "plt.show()\n"
   ]
  },
  {
   "cell_type": "code",
   "execution_count": null,
   "id": "d7e277bf-6dad-4e2a-9096-547b51f5e38d",
   "metadata": {},
   "outputs": [],
   "source": []
  }
 ],
 "metadata": {
  "kernelspec": {
   "display_name": "Python 3 (ipykernel)",
   "language": "python",
   "name": "python3"
  },
  "language_info": {
   "codemirror_mode": {
    "name": "ipython",
    "version": 3
   },
   "file_extension": ".py",
   "mimetype": "text/x-python",
   "name": "python",
   "nbconvert_exporter": "python",
   "pygments_lexer": "ipython3",
   "version": "3.12.4"
  }
 },
 "nbformat": 4,
 "nbformat_minor": 5
}
