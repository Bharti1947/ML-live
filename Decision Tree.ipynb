{
 "cells": [
  {
   "cell_type": "markdown",
   "id": "7108bea6-f278-4614-992f-77bb908d4437",
   "metadata": {},
   "source": [
    "##### 1.What is a Decision Tree, and how does it work?"
   ]
  },
  {
   "cell_type": "code",
   "execution_count": null,
   "id": "10362544-44d0-466d-962f-c7a23e6b4770",
   "metadata": {},
   "outputs": [],
   "source": [
    "#Ans -A Decision Tree is a flowchart-like structure used for decision-making. \n",
    "#It splits data into branches based on conditions, leading to a final outcome.\n",
    "#It works by recursively dividing data using the best feature at each step to minimize uncertainty. "
   ]
  },
  {
   "cell_type": "markdown",
   "id": "0b7386f0-d319-4a4a-b353-7a8477ef57c7",
   "metadata": {},
   "source": [
    "##### 2.What are impurity measures in Decision Trees?"
   ]
  },
  {
   "cell_type": "code",
   "execution_count": null,
   "id": "4e062b55-96c1-4ff2-9daa-6fe0cde4c036",
   "metadata": {},
   "outputs": [],
   "source": [
    "#Ans - Impurity measures in Decision Trees indicate how mixed the classes are. Common ones:\n",
    "#Entropy – Measures disorder.\n",
    "#MSE – Used in regression for variance."
   ]
  },
  {
   "cell_type": "markdown",
   "id": "1b1a975f-662f-4022-90c1-19581c77d2f3",
   "metadata": {},
   "source": [
    "##### 3.What is the mathematical formula for Gini Impurity?"
   ]
  },
  {
   "cell_type": "code",
   "execution_count": null,
   "id": "3853bfda-5a81-4e44-b657-09f576550348",
   "metadata": {},
   "outputs": [],
   "source": [
    "#Ans - The formula for Gini Impurity is:\n",
    "#              Gini = 1 − ∑pi^2\n",
    "#Where pi is the probability of class i in the node."
   ]
  },
  {
   "cell_type": "markdown",
   "id": "6a6e8821-8dd8-4f65-99ab-6d30df1bdd5e",
   "metadata": {},
   "source": [
    "##### 4.What is the mathematical formula for Entropy?"
   ]
  },
  {
   "cell_type": "code",
   "execution_count": null,
   "id": "cbb84dda-531e-4426-9341-66eae4ce300a",
   "metadata": {},
   "outputs": [],
   "source": [
    "#Ans - he formula for Entropy is:\n",
    "#                 Entropy = −∑pilog⁡2pi\n",
    "#Where pi is the probability of class i in the node."
   ]
  },
  {
   "cell_type": "markdown",
   "id": "6d753d34-a362-44af-988c-c1498e808613",
   "metadata": {},
   "source": [
    "##### 5.What is Information Gain, and how is it used in Decision Trees?"
   ]
  },
  {
   "cell_type": "code",
   "execution_count": null,
   "id": "dc5273c4-fd24-4ced-bdd3-5dc9c07ab2b9",
   "metadata": {},
   "outputs": [],
   "source": [
    "#Ans - Information Gain (IG) measures the reduction in entropy after splitting a node.\n",
    "#It helps decide the best feature for splitting in a Decision Tree.\n",
    "#Formula:\n",
    "#       IG = Entropy_parent − ∑(Nk/N × Entropy_k)\n",
    "\n",
    "#Where Nk​ is the number of samples in child node k, and N is the total samples in the parent node."
   ]
  },
  {
   "cell_type": "markdown",
   "id": "b2b9755d-5bd6-4f66-8eb1-423c6e9bc352",
   "metadata": {},
   "source": [
    "##### 6.What is the difference between Gini Impurity and Entropy?"
   ]
  },
  {
   "cell_type": "code",
   "execution_count": null,
   "id": "47e81d81-dfb5-44df-953c-adde25a228d2",
   "metadata": {},
   "outputs": [],
   "source": [
    "#Ans - Gini Impurity vs. Entropy:\n",
    "#Gini Impurity – Measures misclassification; easier to compute.\n",
    "#Entropy – Measures disorder; involves logarithms.\n",
    "#Difference – Gini is slightly faster, while Entropy is more sensitive to class distribution"
   ]
  },
  {
   "cell_type": "markdown",
   "id": "c2ba7002-7ccd-4826-b83c-f444051c8b0e",
   "metadata": {},
   "source": [
    "##### 7.What is the mathematical explanation behind Decision Trees?"
   ]
  },
  {
   "cell_type": "code",
   "execution_count": null,
   "id": "a2ef7f80-d63a-45d9-9b65-190eeecec2d6",
   "metadata": {},
   "outputs": [],
   "source": [
    "#Ans - Decision Trees work by recursively splitting data to minimize impurity (Gini or Entropy).\n",
    "#Impurity Calculation: Compute Gini or Entropy for the parent node.\n",
    "#Split Evaluation: Calculate Information Gain (IG) for each feature.\n",
    "\n",
    "#         IG = Entropy_parent−∑(Nk/N × Entropy_k)\n",
    "\n",
    "#Best Split Selection: Choose the feature with the highest IG.\n",
    "#Recursion: Repeat until nodes are pure or meet stopping criteria."
   ]
  },
  {
   "cell_type": "markdown",
   "id": "56850100-911e-40e0-9964-42ee7e381c73",
   "metadata": {},
   "source": [
    "##### 8.What is Pre-Pruning in Decision Trees?"
   ]
  },
  {
   "cell_type": "code",
   "execution_count": null,
   "id": "8520d45f-5f5d-467d-b541-9a3dc482a626",
   "metadata": {},
   "outputs": [],
   "source": [
    "#Ans - Pre-Pruning stops tree growth early to prevent overfitting.\n",
    "#It sets conditions like max depth, min samples per leaf, or min information gain to halt splitting."
   ]
  },
  {
   "cell_type": "markdown",
   "id": "bfae6754-c2f1-436e-9db1-cfa9f5799c6d",
   "metadata": {},
   "source": [
    "##### 9.What is Post-Pruning in Decision Trees?"
   ]
  },
  {
   "cell_type": "code",
   "execution_count": null,
   "id": "3d7e4bed-0927-45d6-bc15-1be4bd87f58f",
   "metadata": {},
   "outputs": [],
   "source": [
    "#Ans -Post-Pruning removes unnecessary branches after training to reduce overfitting. \n",
    "#It prunes nodes based on validation data or complexity measures. "
   ]
  },
  {
   "cell_type": "markdown",
   "id": "4206fec3-508d-4eca-829b-3826d954c7c0",
   "metadata": {},
   "source": [
    "##### 10.What is the difference between Pre-Pruning and Post-Pruning?"
   ]
  },
  {
   "cell_type": "code",
   "execution_count": null,
   "id": "0e9ab5c1-0930-4840-9ea9-580c35a5db07",
   "metadata": {},
   "outputs": [],
   "source": [
    "#Ans -Pre-Pruning – Stops tree growth early using conditions (e.g., max depth, min samples).\n",
    "#Post-Pruning – Grows the full tree first, then removes unnecessary branches.\n",
    "#Difference – Pre-pruning prevents overfitting early, while post-pruning simplifies after training "
   ]
  },
  {
   "cell_type": "markdown",
   "id": "1fa62b60-aeb8-446b-8f76-f94f4f0e17fc",
   "metadata": {},
   "source": [
    "##### 11.What is a Decision Tree Regressor?"
   ]
  },
  {
   "cell_type": "code",
   "execution_count": null,
   "id": "cef66cde-106b-42ef-8d97-f8def5eec70d",
   "metadata": {},
   "outputs": [],
   "source": [
    "#Ans -A Decision Tree Regressor predicts continuous values by splitting data into regions and assigning the average target value of each region as the output. \n",
    "#It minimizes Mean Squared Error (MSE) for splits. "
   ]
  },
  {
   "cell_type": "markdown",
   "id": "cee04b0c-871d-4298-a3d0-69cee9e2d678",
   "metadata": {},
   "source": [
    "##### 12.What are the advantages and disadvantages of Decision Trees?"
   ]
  },
  {
   "cell_type": "code",
   "execution_count": null,
   "id": "e99c9435-0563-4dd8-8528-f46b7444f510",
   "metadata": {},
   "outputs": [],
   "source": [
    "#Ans - Advantages:\n",
    "#Easy to understand and interpret.\n",
    "#Works with both classification and regression tasks.\n",
    "#Requires little data preprocessing\n",
    "\n",
    "#Disadvantages:\n",
    "#Prone to overfitting without pruning.\n",
    "#Sensitive to small data changes.\n",
    "#Can be biased toward dominant classes."
   ]
  },
  {
   "cell_type": "markdown",
   "id": "d03f0a8d-1a76-4cdc-8397-b6acd1e37d42",
   "metadata": {},
   "source": [
    "##### 13.How does a Decision Tree handle missing values?"
   ]
  },
  {
   "cell_type": "code",
   "execution_count": null,
   "id": "d3a420ed-1dd1-4b26-9c28-9764c106b4d8",
   "metadata": {},
   "outputs": [],
   "source": [
    "#Ans - A Decision Tree handles missing values by:\n",
    "#Ignoring Missing Values – Splits based on available data.\n",
    "#Imputation – Replaces missing values with mean, median, or most frequent values.\n",
    "#Separate Category – Treats missing values as a separate category in categorical features."
   ]
  },
  {
   "cell_type": "markdown",
   "id": "649e9c83-ddfb-4bab-8f28-56b10ee4bf08",
   "metadata": {},
   "source": [
    "##### 14.How does a Decision Tree handle categorical features?"
   ]
  },
  {
   "cell_type": "code",
   "execution_count": null,
   "id": "c5a6961d-3bc7-4a3b-83e6-1f766d62b47e",
   "metadata": {},
   "outputs": [],
   "source": [
    "#Ans - A Decision Tree handles categorical features by:\n",
    "#Label Encoding – Assigns numerical values to categories.\n",
    "#One-Hot Encoding – Creates binary columns for each category.\n",
    "#Splitting Based on Categories – Uses category-based splits instead of numerical thresholds"
   ]
  },
  {
   "cell_type": "markdown",
   "id": "230446ca-35c1-416e-b32c-9da67c5fe947",
   "metadata": {},
   "source": [
    "##### 15.What are some real-world applications of Decision Trees?"
   ]
  },
  {
   "cell_type": "code",
   "execution_count": null,
   "id": "373ae1f9-c0b3-498c-bc1c-e3dbfa3876e6",
   "metadata": {},
   "outputs": [],
   "source": [
    "#Ans - Real-World Applications of Decision Trees:\n",
    "#Medical Diagnosis – Identifying diseases based on symptoms.\n",
    "#Fraud Detection – Detecting fraudulent transactions.\n",
    "#Customer Segmentation – Categorizing customers for marketing."
   ]
  },
  {
   "cell_type": "markdown",
   "id": "d3533672-5fbf-47cc-aa02-b99b280c7bc4",
   "metadata": {},
   "source": [
    "## Practical "
   ]
  },
  {
   "cell_type": "code",
   "execution_count": 32,
   "id": "b59d4830-a1ea-47c0-88fb-d12421ef1907",
   "metadata": {},
   "outputs": [],
   "source": [
    "import numpy as np\n",
    "import pandas as pd\n",
    "import matplotlib.pyplot as plt\n",
    "import seaborn as sns\n",
    "\n",
    "import warnings\n",
    "warnings.filterwarnings('ignore')"
   ]
  },
  {
   "cell_type": "code",
   "execution_count": 36,
   "id": "44d330d0-22e0-473e-9dda-c1921c034fc2",
   "metadata": {},
   "outputs": [],
   "source": [
    "from sklearn.tree import DecisionTreeClassifier\n",
    "from sklearn.model_selection import train_test_split\n",
    "from sklearn.metrics import accuracy_score"
   ]
  },
  {
   "cell_type": "markdown",
   "id": "16c35ed8-8c9f-47bf-8845-df6a117348c1",
   "metadata": {},
   "source": [
    "##### 16.Write a Python program to train a Decision Tree Classifier on the Iris dataset and print the model accuracy."
   ]
  },
  {
   "cell_type": "code",
   "execution_count": 40,
   "id": "e08e7a52-8e95-42f6-bc59-7a375c4766cc",
   "metadata": {},
   "outputs": [
    {
     "name": "stdout",
     "output_type": "stream",
     "text": [
      "Accuracy: 1.0\n"
     ]
    }
   ],
   "source": [
    "from sklearn.datasets import load_iris\n",
    "iris = load_iris()\n",
    "X_train, X_test, y_train, y_test = train_test_split(iris.data, iris.target, test_size=0.2, random_state=42)\n",
    "\n",
    "clf = DecisionTreeClassifier()\n",
    "clf.fit(X_train, y_train)\n",
    "y_pred = clf.predict(X_test)\n",
    "\n",
    "print(\"Accuracy:\", accuracy_score(y_test, y_pred))\n"
   ]
  },
  {
   "cell_type": "markdown",
   "id": "a16d37be-d6ed-485d-bbbb-63eecd8a6e44",
   "metadata": {},
   "source": [
    "##### 17.Write a Python program to train a Decision Tree Classifier using Gini Impurity as the criterion and print the feature importances."
   ]
  },
  {
   "cell_type": "code",
   "execution_count": 42,
   "id": "dc628e3a-d7f6-4653-82d4-a9818336fb17",
   "metadata": {},
   "outputs": [
    {
     "name": "stdout",
     "output_type": "stream",
     "text": [
      "Feature Importances: [0.         0.01333333 0.56405596 0.42261071]\n"
     ]
    }
   ],
   "source": [
    "iris = load_iris()\n",
    "clf = DecisionTreeClassifier(criterion=\"gini\")\n",
    "clf.fit(iris.data, iris.target)\n",
    "\n",
    "print(\"Feature Importances:\", clf.feature_importances_)\n"
   ]
  },
  {
   "cell_type": "markdown",
   "id": "19c62da9-b37d-4d7b-b1d8-e80105721bb3",
   "metadata": {},
   "source": [
    "##### 18.Write a Python program to train a Decision Tree Classifier using Entropy as the splitting criterion and print the model accuracy."
   ]
  },
  {
   "cell_type": "code",
   "execution_count": 46,
   "id": "6aacbe3b-36f3-443e-a58f-7ec6378dbb0d",
   "metadata": {},
   "outputs": [
    {
     "name": "stdout",
     "output_type": "stream",
     "text": [
      "Accuracy: 1.0\n"
     ]
    }
   ],
   "source": [
    "iris = load_iris()\n",
    "X_train, X_test, y_train, y_test = train_test_split(iris.data, iris.target, test_size=0.2, random_state=42)\n",
    "\n",
    "clf = DecisionTreeClassifier(criterion=\"entropy\")\n",
    "clf.fit(X_train, y_train)\n",
    "y_pred = clf.predict(X_test)\n",
    "\n",
    "print(\"Accuracy:\", accuracy_score(y_test, y_pred))\n"
   ]
  },
  {
   "cell_type": "markdown",
   "id": "9f2412fa-0f20-4dd5-89ea-05ca3f37d43c",
   "metadata": {},
   "source": [
    "##### 19.Write a Python program to train a Decision Tree Regressor on a housing dataset and evaluate using Mean Squared Error (MSE)."
   ]
  },
  {
   "cell_type": "code",
   "execution_count": 50,
   "id": "20bbd79c-0763-489c-b588-22f31c179856",
   "metadata": {},
   "outputs": [
    {
     "name": "stdout",
     "output_type": "stream",
     "text": [
      "MSE: 0.49465337186448644\n"
     ]
    }
   ],
   "source": [
    "from sklearn.datasets import fetch_california_housing\n",
    "from sklearn.metrics import mean_squared_error\n",
    "\n",
    "data = fetch_california_housing()\n",
    "X_train, X_test, y_train, y_test = train_test_split(data.data, data.target, test_size=0.2, random_state=42)\n",
    "\n",
    "reg = DecisionTreeRegressor()\n",
    "reg.fit(X_train, y_train)\n",
    "y_pred = reg.predict(X_test)\n",
    "\n",
    "print(\"MSE:\", mean_squared_error(y_test, y_pred))\n"
   ]
  },
  {
   "cell_type": "markdown",
   "id": "c16ff046-fd74-4086-a5ab-0af491e2d458",
   "metadata": {},
   "source": [
    "##### 21.Write a Python program to train a Decision Tree Classifier with a maximum depth of 3 and compare its accuracy with a fully grown tree."
   ]
  },
  {
   "cell_type": "code",
   "execution_count": 64,
   "id": "f948caee-ee18-4fb2-9024-8099eb3bb857",
   "metadata": {},
   "outputs": [
    {
     "name": "stdout",
     "output_type": "stream",
     "text": [
      "Max Depth 3 Accuracy: 1.0\n",
      "Full Tree Accuracy: 1.0\n"
     ]
    }
   ],
   "source": [
    "iris = load_iris()\n",
    "X_train, X_test, y_train, y_test = train_test_split(iris.data, iris.target, test_size=0.2, random_state=42)\n",
    "\n",
    "clf1 = DecisionTreeClassifier(max_depth=3)\n",
    "clf1.fit(X_train, y_train)\n",
    "acc1 = accuracy_score(y_test, clf1.predict(X_test))\n",
    "\n",
    "clf2 = DecisionTreeClassifier()\n",
    "clf2.fit(X_train, y_train)\n",
    "acc2 = accuracy_score(y_test, clf2.predict(X_test))\n",
    "\n",
    "print(\"Max Depth 3 Accuracy:\", acc1)\n",
    "print(\"Full Tree Accuracy:\", acc2)\n"
   ]
  },
  {
   "cell_type": "markdown",
   "id": "59ebd10d-41dc-4471-b3d2-6c1c40479d04",
   "metadata": {},
   "source": [
    "##### 22.Write a Python program to train a Decision Tree Classifier using min_samples_split=5 and compare its accuracy with a default tree."
   ]
  },
  {
   "cell_type": "code",
   "execution_count": 70,
   "id": "5d649566-e838-44e6-bed9-8bb39649fb65",
   "metadata": {},
   "outputs": [
    {
     "name": "stdout",
     "output_type": "stream",
     "text": [
      "Min Samples Split 5 Accuracy: 0.9666666666666667\n",
      "Default Tree Accuracy: 0.9666666666666667\n"
     ]
    }
   ],
   "source": [
    "iris = load_iris()\n",
    "X_train, X_test, y_train, y_test = train_test_split(iris.data, iris.target, test_size=0.2, random_state=1)\n",
    "\n",
    "clf1 = DecisionTreeClassifier(min_samples_split=5)\n",
    "clf1.fit(X_train, y_train)\n",
    "acc1 = accuracy_score(y_test, clf1.predict(X_test))\n",
    "\n",
    "clf2 = DecisionTreeClassifier()\n",
    "clf2.fit(X_train, y_train)\n",
    "acc2 = accuracy_score(y_test, clf2.predict(X_test))\n",
    "\n",
    "print(\"Min Samples Split 5 Accuracy:\", acc1)\n",
    "print(\"Default Tree Accuracy:\", acc2)\n"
   ]
  },
  {
   "cell_type": "markdown",
   "id": "c181c236-69ee-4a4d-9157-79eb3e3d25df",
   "metadata": {},
   "source": [
    "##### 23.Write a Python program to apply feature scaling before training a Decision Tree Classifier and compare its accuracy with unscaled data."
   ]
  },
  {
   "cell_type": "code",
   "execution_count": 81,
   "id": "a08e00d5-1024-4bda-948f-626b9db470a8",
   "metadata": {},
   "outputs": [
    {
     "name": "stdout",
     "output_type": "stream",
     "text": [
      "Without Scaling Accuracy: 0.9\n",
      "With Scaling Accuracy: 0.9333333333333333\n"
     ]
    }
   ],
   "source": [
    "iris = load_iris()\n",
    "X_train, X_test, y_train, y_test = train_test_split(iris.data, iris.target, test_size=0.2)\n",
    "\n",
    "# Without Scaling\n",
    "clf1 = DecisionTreeClassifier()\n",
    "clf1.fit(X_train, y_train)\n",
    "acc1 = accuracy_score(y_test, clf1.predict(X_test))\n",
    "\n",
    "# With Scaling\n",
    "scaler = StandardScaler()\n",
    "X_train_scaled = scaler.fit_transform(X_train)\n",
    "X_test_scaled = scaler.transform(X_test)\n",
    "\n",
    "clf2 = DecisionTreeClassifier()\n",
    "clf2.fit(X_train_scaled, y_train)\n",
    "acc2 = accuracy_score(y_test, clf2.predict(X_test_scaled))\n",
    "\n",
    "print(\"Without Scaling Accuracy:\", acc1)\n",
    "print(\"With Scaling Accuracy:\", acc2)\n"
   ]
  },
  {
   "cell_type": "markdown",
   "id": "3423589c-9df2-40be-b6bd-0e3a1ce0485b",
   "metadata": {},
   "source": [
    "##### 24. Write a Python program to train a Decision Tree Classifier using One-vs-Rest (OvR) strategy for multiclass classification."
   ]
  },
  {
   "cell_type": "code",
   "execution_count": 89,
   "id": "7c1d99dd-a98a-4ebd-be4b-7712a4c43319",
   "metadata": {},
   "outputs": [
    {
     "data": {
      "text/html": [
       "<style>#sk-container-id-2 {\n",
       "  /* Definition of color scheme common for light and dark mode */\n",
       "  --sklearn-color-text: black;\n",
       "  --sklearn-color-line: gray;\n",
       "  /* Definition of color scheme for unfitted estimators */\n",
       "  --sklearn-color-unfitted-level-0: #fff5e6;\n",
       "  --sklearn-color-unfitted-level-1: #f6e4d2;\n",
       "  --sklearn-color-unfitted-level-2: #ffe0b3;\n",
       "  --sklearn-color-unfitted-level-3: chocolate;\n",
       "  /* Definition of color scheme for fitted estimators */\n",
       "  --sklearn-color-fitted-level-0: #f0f8ff;\n",
       "  --sklearn-color-fitted-level-1: #d4ebff;\n",
       "  --sklearn-color-fitted-level-2: #b3dbfd;\n",
       "  --sklearn-color-fitted-level-3: cornflowerblue;\n",
       "\n",
       "  /* Specific color for light theme */\n",
       "  --sklearn-color-text-on-default-background: var(--sg-text-color, var(--theme-code-foreground, var(--jp-content-font-color1, black)));\n",
       "  --sklearn-color-background: var(--sg-background-color, var(--theme-background, var(--jp-layout-color0, white)));\n",
       "  --sklearn-color-border-box: var(--sg-text-color, var(--theme-code-foreground, var(--jp-content-font-color1, black)));\n",
       "  --sklearn-color-icon: #696969;\n",
       "\n",
       "  @media (prefers-color-scheme: dark) {\n",
       "    /* Redefinition of color scheme for dark theme */\n",
       "    --sklearn-color-text-on-default-background: var(--sg-text-color, var(--theme-code-foreground, var(--jp-content-font-color1, white)));\n",
       "    --sklearn-color-background: var(--sg-background-color, var(--theme-background, var(--jp-layout-color0, #111)));\n",
       "    --sklearn-color-border-box: var(--sg-text-color, var(--theme-code-foreground, var(--jp-content-font-color1, white)));\n",
       "    --sklearn-color-icon: #878787;\n",
       "  }\n",
       "}\n",
       "\n",
       "#sk-container-id-2 {\n",
       "  color: var(--sklearn-color-text);\n",
       "}\n",
       "\n",
       "#sk-container-id-2 pre {\n",
       "  padding: 0;\n",
       "}\n",
       "\n",
       "#sk-container-id-2 input.sk-hidden--visually {\n",
       "  border: 0;\n",
       "  clip: rect(1px 1px 1px 1px);\n",
       "  clip: rect(1px, 1px, 1px, 1px);\n",
       "  height: 1px;\n",
       "  margin: -1px;\n",
       "  overflow: hidden;\n",
       "  padding: 0;\n",
       "  position: absolute;\n",
       "  width: 1px;\n",
       "}\n",
       "\n",
       "#sk-container-id-2 div.sk-dashed-wrapped {\n",
       "  border: 1px dashed var(--sklearn-color-line);\n",
       "  margin: 0 0.4em 0.5em 0.4em;\n",
       "  box-sizing: border-box;\n",
       "  padding-bottom: 0.4em;\n",
       "  background-color: var(--sklearn-color-background);\n",
       "}\n",
       "\n",
       "#sk-container-id-2 div.sk-container {\n",
       "  /* jupyter's `normalize.less` sets `[hidden] { display: none; }`\n",
       "     but bootstrap.min.css set `[hidden] { display: none !important; }`\n",
       "     so we also need the `!important` here to be able to override the\n",
       "     default hidden behavior on the sphinx rendered scikit-learn.org.\n",
       "     See: https://github.com/scikit-learn/scikit-learn/issues/21755 */\n",
       "  display: inline-block !important;\n",
       "  position: relative;\n",
       "}\n",
       "\n",
       "#sk-container-id-2 div.sk-text-repr-fallback {\n",
       "  display: none;\n",
       "}\n",
       "\n",
       "div.sk-parallel-item,\n",
       "div.sk-serial,\n",
       "div.sk-item {\n",
       "  /* draw centered vertical line to link estimators */\n",
       "  background-image: linear-gradient(var(--sklearn-color-text-on-default-background), var(--sklearn-color-text-on-default-background));\n",
       "  background-size: 2px 100%;\n",
       "  background-repeat: no-repeat;\n",
       "  background-position: center center;\n",
       "}\n",
       "\n",
       "/* Parallel-specific style estimator block */\n",
       "\n",
       "#sk-container-id-2 div.sk-parallel-item::after {\n",
       "  content: \"\";\n",
       "  width: 100%;\n",
       "  border-bottom: 2px solid var(--sklearn-color-text-on-default-background);\n",
       "  flex-grow: 1;\n",
       "}\n",
       "\n",
       "#sk-container-id-2 div.sk-parallel {\n",
       "  display: flex;\n",
       "  align-items: stretch;\n",
       "  justify-content: center;\n",
       "  background-color: var(--sklearn-color-background);\n",
       "  position: relative;\n",
       "}\n",
       "\n",
       "#sk-container-id-2 div.sk-parallel-item {\n",
       "  display: flex;\n",
       "  flex-direction: column;\n",
       "}\n",
       "\n",
       "#sk-container-id-2 div.sk-parallel-item:first-child::after {\n",
       "  align-self: flex-end;\n",
       "  width: 50%;\n",
       "}\n",
       "\n",
       "#sk-container-id-2 div.sk-parallel-item:last-child::after {\n",
       "  align-self: flex-start;\n",
       "  width: 50%;\n",
       "}\n",
       "\n",
       "#sk-container-id-2 div.sk-parallel-item:only-child::after {\n",
       "  width: 0;\n",
       "}\n",
       "\n",
       "/* Serial-specific style estimator block */\n",
       "\n",
       "#sk-container-id-2 div.sk-serial {\n",
       "  display: flex;\n",
       "  flex-direction: column;\n",
       "  align-items: center;\n",
       "  background-color: var(--sklearn-color-background);\n",
       "  padding-right: 1em;\n",
       "  padding-left: 1em;\n",
       "}\n",
       "\n",
       "\n",
       "/* Toggleable style: style used for estimator/Pipeline/ColumnTransformer box that is\n",
       "clickable and can be expanded/collapsed.\n",
       "- Pipeline and ColumnTransformer use this feature and define the default style\n",
       "- Estimators will overwrite some part of the style using the `sk-estimator` class\n",
       "*/\n",
       "\n",
       "/* Pipeline and ColumnTransformer style (default) */\n",
       "\n",
       "#sk-container-id-2 div.sk-toggleable {\n",
       "  /* Default theme specific background. It is overwritten whether we have a\n",
       "  specific estimator or a Pipeline/ColumnTransformer */\n",
       "  background-color: var(--sklearn-color-background);\n",
       "}\n",
       "\n",
       "/* Toggleable label */\n",
       "#sk-container-id-2 label.sk-toggleable__label {\n",
       "  cursor: pointer;\n",
       "  display: block;\n",
       "  width: 100%;\n",
       "  margin-bottom: 0;\n",
       "  padding: 0.5em;\n",
       "  box-sizing: border-box;\n",
       "  text-align: center;\n",
       "}\n",
       "\n",
       "#sk-container-id-2 label.sk-toggleable__label-arrow:before {\n",
       "  /* Arrow on the left of the label */\n",
       "  content: \"▸\";\n",
       "  float: left;\n",
       "  margin-right: 0.25em;\n",
       "  color: var(--sklearn-color-icon);\n",
       "}\n",
       "\n",
       "#sk-container-id-2 label.sk-toggleable__label-arrow:hover:before {\n",
       "  color: var(--sklearn-color-text);\n",
       "}\n",
       "\n",
       "/* Toggleable content - dropdown */\n",
       "\n",
       "#sk-container-id-2 div.sk-toggleable__content {\n",
       "  max-height: 0;\n",
       "  max-width: 0;\n",
       "  overflow: hidden;\n",
       "  text-align: left;\n",
       "  /* unfitted */\n",
       "  background-color: var(--sklearn-color-unfitted-level-0);\n",
       "}\n",
       "\n",
       "#sk-container-id-2 div.sk-toggleable__content.fitted {\n",
       "  /* fitted */\n",
       "  background-color: var(--sklearn-color-fitted-level-0);\n",
       "}\n",
       "\n",
       "#sk-container-id-2 div.sk-toggleable__content pre {\n",
       "  margin: 0.2em;\n",
       "  border-radius: 0.25em;\n",
       "  color: var(--sklearn-color-text);\n",
       "  /* unfitted */\n",
       "  background-color: var(--sklearn-color-unfitted-level-0);\n",
       "}\n",
       "\n",
       "#sk-container-id-2 div.sk-toggleable__content.fitted pre {\n",
       "  /* unfitted */\n",
       "  background-color: var(--sklearn-color-fitted-level-0);\n",
       "}\n",
       "\n",
       "#sk-container-id-2 input.sk-toggleable__control:checked~div.sk-toggleable__content {\n",
       "  /* Expand drop-down */\n",
       "  max-height: 200px;\n",
       "  max-width: 100%;\n",
       "  overflow: auto;\n",
       "}\n",
       "\n",
       "#sk-container-id-2 input.sk-toggleable__control:checked~label.sk-toggleable__label-arrow:before {\n",
       "  content: \"▾\";\n",
       "}\n",
       "\n",
       "/* Pipeline/ColumnTransformer-specific style */\n",
       "\n",
       "#sk-container-id-2 div.sk-label input.sk-toggleable__control:checked~label.sk-toggleable__label {\n",
       "  color: var(--sklearn-color-text);\n",
       "  background-color: var(--sklearn-color-unfitted-level-2);\n",
       "}\n",
       "\n",
       "#sk-container-id-2 div.sk-label.fitted input.sk-toggleable__control:checked~label.sk-toggleable__label {\n",
       "  background-color: var(--sklearn-color-fitted-level-2);\n",
       "}\n",
       "\n",
       "/* Estimator-specific style */\n",
       "\n",
       "/* Colorize estimator box */\n",
       "#sk-container-id-2 div.sk-estimator input.sk-toggleable__control:checked~label.sk-toggleable__label {\n",
       "  /* unfitted */\n",
       "  background-color: var(--sklearn-color-unfitted-level-2);\n",
       "}\n",
       "\n",
       "#sk-container-id-2 div.sk-estimator.fitted input.sk-toggleable__control:checked~label.sk-toggleable__label {\n",
       "  /* fitted */\n",
       "  background-color: var(--sklearn-color-fitted-level-2);\n",
       "}\n",
       "\n",
       "#sk-container-id-2 div.sk-label label.sk-toggleable__label,\n",
       "#sk-container-id-2 div.sk-label label {\n",
       "  /* The background is the default theme color */\n",
       "  color: var(--sklearn-color-text-on-default-background);\n",
       "}\n",
       "\n",
       "/* On hover, darken the color of the background */\n",
       "#sk-container-id-2 div.sk-label:hover label.sk-toggleable__label {\n",
       "  color: var(--sklearn-color-text);\n",
       "  background-color: var(--sklearn-color-unfitted-level-2);\n",
       "}\n",
       "\n",
       "/* Label box, darken color on hover, fitted */\n",
       "#sk-container-id-2 div.sk-label.fitted:hover label.sk-toggleable__label.fitted {\n",
       "  color: var(--sklearn-color-text);\n",
       "  background-color: var(--sklearn-color-fitted-level-2);\n",
       "}\n",
       "\n",
       "/* Estimator label */\n",
       "\n",
       "#sk-container-id-2 div.sk-label label {\n",
       "  font-family: monospace;\n",
       "  font-weight: bold;\n",
       "  display: inline-block;\n",
       "  line-height: 1.2em;\n",
       "}\n",
       "\n",
       "#sk-container-id-2 div.sk-label-container {\n",
       "  text-align: center;\n",
       "}\n",
       "\n",
       "/* Estimator-specific */\n",
       "#sk-container-id-2 div.sk-estimator {\n",
       "  font-family: monospace;\n",
       "  border: 1px dotted var(--sklearn-color-border-box);\n",
       "  border-radius: 0.25em;\n",
       "  box-sizing: border-box;\n",
       "  margin-bottom: 0.5em;\n",
       "  /* unfitted */\n",
       "  background-color: var(--sklearn-color-unfitted-level-0);\n",
       "}\n",
       "\n",
       "#sk-container-id-2 div.sk-estimator.fitted {\n",
       "  /* fitted */\n",
       "  background-color: var(--sklearn-color-fitted-level-0);\n",
       "}\n",
       "\n",
       "/* on hover */\n",
       "#sk-container-id-2 div.sk-estimator:hover {\n",
       "  /* unfitted */\n",
       "  background-color: var(--sklearn-color-unfitted-level-2);\n",
       "}\n",
       "\n",
       "#sk-container-id-2 div.sk-estimator.fitted:hover {\n",
       "  /* fitted */\n",
       "  background-color: var(--sklearn-color-fitted-level-2);\n",
       "}\n",
       "\n",
       "/* Specification for estimator info (e.g. \"i\" and \"?\") */\n",
       "\n",
       "/* Common style for \"i\" and \"?\" */\n",
       "\n",
       ".sk-estimator-doc-link,\n",
       "a:link.sk-estimator-doc-link,\n",
       "a:visited.sk-estimator-doc-link {\n",
       "  float: right;\n",
       "  font-size: smaller;\n",
       "  line-height: 1em;\n",
       "  font-family: monospace;\n",
       "  background-color: var(--sklearn-color-background);\n",
       "  border-radius: 1em;\n",
       "  height: 1em;\n",
       "  width: 1em;\n",
       "  text-decoration: none !important;\n",
       "  margin-left: 1ex;\n",
       "  /* unfitted */\n",
       "  border: var(--sklearn-color-unfitted-level-1) 1pt solid;\n",
       "  color: var(--sklearn-color-unfitted-level-1);\n",
       "}\n",
       "\n",
       ".sk-estimator-doc-link.fitted,\n",
       "a:link.sk-estimator-doc-link.fitted,\n",
       "a:visited.sk-estimator-doc-link.fitted {\n",
       "  /* fitted */\n",
       "  border: var(--sklearn-color-fitted-level-1) 1pt solid;\n",
       "  color: var(--sklearn-color-fitted-level-1);\n",
       "}\n",
       "\n",
       "/* On hover */\n",
       "div.sk-estimator:hover .sk-estimator-doc-link:hover,\n",
       ".sk-estimator-doc-link:hover,\n",
       "div.sk-label-container:hover .sk-estimator-doc-link:hover,\n",
       ".sk-estimator-doc-link:hover {\n",
       "  /* unfitted */\n",
       "  background-color: var(--sklearn-color-unfitted-level-3);\n",
       "  color: var(--sklearn-color-background);\n",
       "  text-decoration: none;\n",
       "}\n",
       "\n",
       "div.sk-estimator.fitted:hover .sk-estimator-doc-link.fitted:hover,\n",
       ".sk-estimator-doc-link.fitted:hover,\n",
       "div.sk-label-container:hover .sk-estimator-doc-link.fitted:hover,\n",
       ".sk-estimator-doc-link.fitted:hover {\n",
       "  /* fitted */\n",
       "  background-color: var(--sklearn-color-fitted-level-3);\n",
       "  color: var(--sklearn-color-background);\n",
       "  text-decoration: none;\n",
       "}\n",
       "\n",
       "/* Span, style for the box shown on hovering the info icon */\n",
       ".sk-estimator-doc-link span {\n",
       "  display: none;\n",
       "  z-index: 9999;\n",
       "  position: relative;\n",
       "  font-weight: normal;\n",
       "  right: .2ex;\n",
       "  padding: .5ex;\n",
       "  margin: .5ex;\n",
       "  width: min-content;\n",
       "  min-width: 20ex;\n",
       "  max-width: 50ex;\n",
       "  color: var(--sklearn-color-text);\n",
       "  box-shadow: 2pt 2pt 4pt #999;\n",
       "  /* unfitted */\n",
       "  background: var(--sklearn-color-unfitted-level-0);\n",
       "  border: .5pt solid var(--sklearn-color-unfitted-level-3);\n",
       "}\n",
       "\n",
       ".sk-estimator-doc-link.fitted span {\n",
       "  /* fitted */\n",
       "  background: var(--sklearn-color-fitted-level-0);\n",
       "  border: var(--sklearn-color-fitted-level-3);\n",
       "}\n",
       "\n",
       ".sk-estimator-doc-link:hover span {\n",
       "  display: block;\n",
       "}\n",
       "\n",
       "/* \"?\"-specific style due to the `<a>` HTML tag */\n",
       "\n",
       "#sk-container-id-2 a.estimator_doc_link {\n",
       "  float: right;\n",
       "  font-size: 1rem;\n",
       "  line-height: 1em;\n",
       "  font-family: monospace;\n",
       "  background-color: var(--sklearn-color-background);\n",
       "  border-radius: 1rem;\n",
       "  height: 1rem;\n",
       "  width: 1rem;\n",
       "  text-decoration: none;\n",
       "  /* unfitted */\n",
       "  color: var(--sklearn-color-unfitted-level-1);\n",
       "  border: var(--sklearn-color-unfitted-level-1) 1pt solid;\n",
       "}\n",
       "\n",
       "#sk-container-id-2 a.estimator_doc_link.fitted {\n",
       "  /* fitted */\n",
       "  border: var(--sklearn-color-fitted-level-1) 1pt solid;\n",
       "  color: var(--sklearn-color-fitted-level-1);\n",
       "}\n",
       "\n",
       "/* On hover */\n",
       "#sk-container-id-2 a.estimator_doc_link:hover {\n",
       "  /* unfitted */\n",
       "  background-color: var(--sklearn-color-unfitted-level-3);\n",
       "  color: var(--sklearn-color-background);\n",
       "  text-decoration: none;\n",
       "}\n",
       "\n",
       "#sk-container-id-2 a.estimator_doc_link.fitted:hover {\n",
       "  /* fitted */\n",
       "  background-color: var(--sklearn-color-fitted-level-3);\n",
       "}\n",
       "</style><div id=\"sk-container-id-2\" class=\"sk-top-container\"><div class=\"sk-text-repr-fallback\"><pre>OneVsRestClassifier(estimator=DecisionTreeClassifier())</pre><b>In a Jupyter environment, please rerun this cell to show the HTML representation or trust the notebook. <br />On GitHub, the HTML representation is unable to render, please try loading this page with nbviewer.org.</b></div><div class=\"sk-container\" hidden><div class=\"sk-item sk-dashed-wrapped\"><div class=\"sk-label-container\"><div class=\"sk-label fitted sk-toggleable\"><input class=\"sk-toggleable__control sk-hidden--visually\" id=\"sk-estimator-id-4\" type=\"checkbox\" ><label for=\"sk-estimator-id-4\" class=\"sk-toggleable__label fitted sk-toggleable__label-arrow fitted\">&nbsp;&nbsp;OneVsRestClassifier<a class=\"sk-estimator-doc-link fitted\" rel=\"noreferrer\" target=\"_blank\" href=\"https://scikit-learn.org/1.4/modules/generated/sklearn.multiclass.OneVsRestClassifier.html\">?<span>Documentation for OneVsRestClassifier</span></a><span class=\"sk-estimator-doc-link fitted\">i<span>Fitted</span></span></label><div class=\"sk-toggleable__content fitted\"><pre>OneVsRestClassifier(estimator=DecisionTreeClassifier())</pre></div> </div></div><div class=\"sk-parallel\"><div class=\"sk-parallel-item\"><div class=\"sk-item\"><div class=\"sk-label-container\"><div class=\"sk-label fitted sk-toggleable\"><input class=\"sk-toggleable__control sk-hidden--visually\" id=\"sk-estimator-id-5\" type=\"checkbox\" ><label for=\"sk-estimator-id-5\" class=\"sk-toggleable__label fitted sk-toggleable__label-arrow fitted\">estimator: DecisionTreeClassifier</label><div class=\"sk-toggleable__content fitted\"><pre>DecisionTreeClassifier()</pre></div> </div></div><div class=\"sk-serial\"><div class=\"sk-item\"><div class=\"sk-estimator fitted sk-toggleable\"><input class=\"sk-toggleable__control sk-hidden--visually\" id=\"sk-estimator-id-6\" type=\"checkbox\" ><label for=\"sk-estimator-id-6\" class=\"sk-toggleable__label fitted sk-toggleable__label-arrow fitted\">&nbsp;DecisionTreeClassifier<a class=\"sk-estimator-doc-link fitted\" rel=\"noreferrer\" target=\"_blank\" href=\"https://scikit-learn.org/1.4/modules/generated/sklearn.tree.DecisionTreeClassifier.html\">?<span>Documentation for DecisionTreeClassifier</span></a></label><div class=\"sk-toggleable__content fitted\"><pre>DecisionTreeClassifier()</pre></div> </div></div></div></div></div></div></div></div></div>"
      ],
      "text/plain": [
       "OneVsRestClassifier(estimator=DecisionTreeClassifier())"
      ]
     },
     "execution_count": 89,
     "metadata": {},
     "output_type": "execute_result"
    }
   ],
   "source": [
    "from sklearn.datasets import load_iris\n",
    "from sklearn.multiclass import OneVsRestClassifier\n",
    "\n",
    "iris = load_iris()\n",
    "clf = OneVsRestClassifier(DecisionTreeClassifier()).fit(iris.data, iris.target)\n",
    "clf"
   ]
  },
  {
   "cell_type": "markdown",
   "id": "c2de3989-01de-4789-b0c5-60a83669e8b7",
   "metadata": {},
   "source": [
    "##### 25.Write a Python program to train a Decision Tree Classifier and display the feature importance scores."
   ]
  },
  {
   "cell_type": "code",
   "execution_count": 93,
   "id": "683edcfa-7f5a-4293-b367-97196d2dd0dd",
   "metadata": {},
   "outputs": [
    {
     "name": "stdout",
     "output_type": "stream",
     "text": [
      "Feature Importances: [0.02666667 0.         0.55072262 0.42261071]\n"
     ]
    }
   ],
   "source": [
    "iris = load_iris()\n",
    "clf = DecisionTreeClassifier().fit(iris.data, iris.target)\n",
    "\n",
    "print(\"Feature Importances:\", clf.feature_importances_)\n"
   ]
  },
  {
   "cell_type": "markdown",
   "id": "0b7cc113-0ae9-43c1-92da-f6c7c53b0ff0",
   "metadata": {},
   "source": [
    "##### 26.Write a Python program to train a Decision Tree Regressor with max_depth=5 and compare its performance with an unrestricted tree."
   ]
  },
  {
   "cell_type": "code",
   "execution_count": 95,
   "id": "65b1ecd5-b0f5-4d6a-b8a7-d7fad5b877fb",
   "metadata": {},
   "outputs": [
    {
     "name": "stdout",
     "output_type": "stream",
     "text": [
      "MSE (max_depth=5): 0.5245146178314735\n",
      "MSE (unrestricted): 0.503354224073934\n"
     ]
    }
   ],
   "source": [
    "from sklearn.datasets import fetch_california_housing\n",
    "from sklearn.metrics import mean_squared_error\n",
    "\n",
    "data = fetch_california_housing()\n",
    "X_train, X_test, y_train, y_test = train_test_split(data.data, data.target, test_size=0.2, random_state=42)\n",
    "\n",
    "clf1 = DecisionTreeRegressor(max_depth=5).fit(X_train, y_train)\n",
    "clf2 = DecisionTreeRegressor().fit(X_train, y_train)\n",
    "\n",
    "print(\"MSE (max_depth=5):\", mean_squared_error(y_test, clf1.predict(X_test)))\n",
    "print(\"MSE (unrestricted):\", mean_squared_error(y_test, clf2.predict(X_test)))\n"
   ]
  },
  {
   "cell_type": "markdown",
   "id": "8aaa5383-9dee-419b-a1ae-cee071735111",
   "metadata": {},
   "source": [
    "##### 27.Write a Python program to train a Decision Tree Classifier, apply Cost Complexity Pruning (CCP), and visualize its effect on accuracy."
   ]
  },
  {
   "cell_type": "code",
   "execution_count": 101,
   "id": "e9d7c0e4-e5d3-498b-acce-094c796ec1e2",
   "metadata": {},
   "outputs": [
    {
     "data": {
      "image/png": "[encoded data removed]",
      "text/plain": [
       "<Figure size 640x480 with 1 Axes>"
      ]
     },
     "metadata": {},
     "output_type": "display_data"
    }
   ],
   "source": [
    "iris = load_iris()\n",
    "X_train, X_test, y_train, y_test = train_test_split(iris.data, iris.target, test_size=0.2, random_state=42)\n",
    "\n",
    "# Train initial Decision Tree\n",
    "clf = DecisionTreeClassifier(random_state=42).fit(X_train, y_train)\n",
    "\n",
    "# Get cost complexity pruning path\n",
    "path = clf.cost_complexity_pruning_path(X_train, y_train)\n",
    "ccp_alphas = path.ccp_alphas  # Array of alpha values\n",
    "\n",
    "# Train and evaluate models for each alpha\n",
    "accuracies = []\n",
    "for alpha in ccp_alphas:\n",
    "    pruned_clf = DecisionTreeClassifier(ccp_alpha=alpha, random_state=42).fit(X_train, y_train)\n",
    "    accuracies.append(pruned_clf.score(X_test, y_test))\n",
    "\n",
    "# Plot accuracy vs. CCP alpha\n",
    "plt.plot(ccp_alphas, accuracies, marker=\"o\", linestyle=\"--\")\n",
    "plt.xlabel(\"CCP Alpha\")\n",
    "plt.ylabel(\"Accuracy\")\n",
    "plt.title(\"Effect of Cost Complexity Pruning on Accuracy\")\n",
    "plt.show()\n"
   ]
  },
  {
   "cell_type": "markdown",
   "id": "14a823c9-e94c-441e-8392-8737770f4880",
   "metadata": {},
   "source": [
    "##### 28.Write a Python program to train a Decision Tree Classifier and evaluate its performance using Precision, Recall, and F1-Score."
   ]
  },
  {
   "cell_type": "code",
   "execution_count": 105,
   "id": "1ab73039-f43f-430d-9142-9aa49d6da6e1",
   "metadata": {},
   "outputs": [
    {
     "name": "stdout",
     "output_type": "stream",
     "text": [
      "              precision    recall  f1-score   support\n",
      "\n",
      "           0       1.00      1.00      1.00        12\n",
      "           1       1.00      0.88      0.93         8\n",
      "           2       0.91      1.00      0.95        10\n",
      "\n",
      "    accuracy                           0.97        30\n",
      "   macro avg       0.97      0.96      0.96        30\n",
      "weighted avg       0.97      0.97      0.97        30\n",
      "\n"
     ]
    }
   ],
   "source": [
    "from sklearn.metrics import classification_report\n",
    "\n",
    "iris = load_iris()\n",
    "X_train, X_test, y_train, y_test = train_test_split(iris.data, iris.target, test_size=0.2)\n",
    "\n",
    "clf = DecisionTreeClassifier().fit(X_train, y_train)\n",
    "y_pred = clf.predict(X_test)\n",
    "\n",
    "print(classification_report(y_test, y_pred))\n"
   ]
  },
  {
   "cell_type": "markdown",
   "id": "9605b49b-f2a3-4419-8bed-4a713a314d0a",
   "metadata": {},
   "source": [
    "##### 29.Write a Python program to train a Decision Tree Classifier and visualize the confusion matrix using seaborn."
   ]
  },
  {
   "cell_type": "code",
   "execution_count": 107,
   "id": "87f8f902-2ead-4545-bc5f-4f1d48201aed",
   "metadata": {},
   "outputs": [
    {
     "data": {
      "image/png": "[encoded data removed]",
      "text/plain": [
       "<Figure size 640x480 with 2 Axes>"
      ]
     },
     "metadata": {},
     "output_type": "display_data"
    }
   ],
   "source": [
    "from sklearn.metrics import confusion_matrix\n",
    "\n",
    "iris = load_iris()\n",
    "clf = DecisionTreeClassifier().fit(iris.data, iris.target)\n",
    "y_pred = clf.predict(iris.data)\n",
    "\n",
    "cm = confusion_matrix(iris.target, y_pred)\n",
    "\n",
    "sns.heatmap(cm, annot=True, cmap=\"Blues\", fmt=\"d\", xticklabels=iris.target_names, yticklabels=iris.target_names)\n",
    "plt.xlabel(\"Predicted\")\n",
    "plt.ylabel(\"Actual\")\n",
    "plt.title(\"Confusion Matrix\")\n",
    "plt.show()\n"
   ]
  },
  {
   "cell_type": "markdown",
   "id": "df26dbff-faa7-4cf2-b1c3-d35b325dc97d",
   "metadata": {},
   "source": [
    "##### 30.Write a Python program to train a Decision Tree Classifier and use GridSearchCV to find the optimal values for max_depth and min_samples_split."
   ]
  },
  {
   "cell_type": "code",
   "execution_count": 109,
   "id": "2067da13-8871-4d3b-b5bb-0e9afb19aec7",
   "metadata": {},
   "outputs": [
    {
     "name": "stdout",
     "output_type": "stream",
     "text": [
      "Best Parameters: {'max_depth': 3, 'min_samples_split': 2}\n",
      "Best Score: 0.9733333333333334\n"
     ]
    }
   ],
   "source": [
    "from sklearn.datasets import load_iris\n",
    "from sklearn.tree import DecisionTreeClassifier\n",
    "from sklearn.model_selection import GridSearchCV\n",
    "\n",
    "iris = load_iris()\n",
    "clf = DecisionTreeClassifier()\n",
    "\n",
    "param_grid = {\"max_depth\": [3, 5, 10], \"min_samples_split\": [2, 5, 10]}\n",
    "grid_search = GridSearchCV(clf, param_grid, cv=5)\n",
    "grid_search.fit(iris.data, iris.target)\n",
    "\n",
    "print(\"Best Parameters:\", grid_search.best_params_)\n",
    "print(\"Best Score:\", grid_search.best_score_)\n"
   ]
  },
  {
   "cell_type": "code",
   "execution_count": null,
   "id": "083c02a4-96fc-40c6-be34-d8a96008d55c",
   "metadata": {},
   "outputs": [],
   "source": []
  }
 ],
 "metadata": {
  "kernelspec": {
   "display_name": "Python 3 (ipykernel)",
   "language": "python",
   "name": "python3"
  },
  "language_info": {
   "codemirror_mode": {
    "name": "ipython",
    "version": 3
   },
   "file_extension": ".py",
   "mimetype": "text/x-python",
   "name": "python",
   "nbconvert_exporter": "python",
   "pygments_lexer": "ipython3",
   "version": "3.12.4"
  }
 },
 "nbformat": 4,
 "nbformat_minor": 5
}
